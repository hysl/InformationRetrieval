{
 "cells": [
  {
   "cell_type": "code",
   "execution_count": 1,
   "metadata": {},
   "outputs": [],
   "source": [
    "import nltk"
   ]
  },
  {
   "cell_type": "code",
   "execution_count": 2,
   "metadata": {},
   "outputs": [],
   "source": [
    "import string"
   ]
  },
  {
   "cell_type": "code",
   "execution_count": 3,
   "metadata": {},
   "outputs": [],
   "source": [
    "from collections import Counter"
   ]
  },
  {
   "cell_type": "code",
   "execution_count": 4,
   "metadata": {},
   "outputs": [],
   "source": [
    "f = open('Data/a1.txt', 'r')\n",
    "\n",
    "def get_tokens():\n",
    "    text = f.read()\n",
    "    lowers = text.lower()\n",
    "    no_punctuation = text.translate(str.maketrans('','',string.punctuation))\n",
    "    tokens = nltk.word_tokenize(no_punctuation)\n",
    "    return tokens\n",
    "\n",
    "tokens1 = get_tokens()\n",
    "count1 = Counter(tokens1)"
   ]
  },
  {
   "cell_type": "code",
   "execution_count": 5,
   "metadata": {},
   "outputs": [
    {
     "data": {
      "text/plain": [
       "[('the', 83),\n",
       " ('and', 65),\n",
       " ('Gyarados', 62),\n",
       " ('Pokémon', 53),\n",
       " ('in', 49),\n",
       " ('of', 49),\n",
       " ('a', 41),\n",
       " ('it', 35),\n",
       " ('to', 32),\n",
       " ('is', 27),\n",
       " ('as', 25),\n",
       " ('by', 14),\n",
       " ('one', 14),\n",
       " ('Magikarp', 13),\n",
       " ('has', 13),\n",
       " ('In', 13),\n",
       " ('Red', 12),\n",
       " ('its', 11),\n",
       " ('but', 11),\n",
       " ('was', 11),\n",
       " ('for', 10),\n",
       " ('Blue', 9),\n",
       " ('that', 8),\n",
       " ('into', 8),\n",
       " ('on', 8),\n",
       " ('series', 7),\n",
       " ('It', 7),\n",
       " ('most', 7),\n",
       " ('first', 6),\n",
       " ('appeared', 6),\n",
       " ('been', 6),\n",
       " ('Misty', 6),\n",
       " ('described', 6),\n",
       " ('their', 6),\n",
       " ('used', 6),\n",
       " ('at', 6),\n",
       " ('Game', 5),\n",
       " ('games', 5),\n",
       " ('later', 5),\n",
       " ('evolved', 5),\n",
       " ('until', 5),\n",
       " ('appears', 5),\n",
       " ('red', 5),\n",
       " ('Silver', 5),\n",
       " ('called', 5),\n",
       " ('game', 5),\n",
       " ('This', 5),\n",
       " ('from', 5),\n",
       " ('battle', 5),\n",
       " ('player', 5)]"
      ]
     },
     "execution_count": 5,
     "metadata": {},
     "output_type": "execute_result"
    }
   ],
   "source": [
    "count1.most_common(50)"
   ]
  },
  {
   "cell_type": "code",
   "execution_count": 6,
   "metadata": {},
   "outputs": [
    {
     "data": {
      "text/plain": [
       "1672"
      ]
     },
     "execution_count": 6,
     "metadata": {},
     "output_type": "execute_result"
    }
   ],
   "source": [
    "len(tokens1)"
   ]
  },
  {
   "cell_type": "code",
   "execution_count": 7,
   "metadata": {},
   "outputs": [
    {
     "data": {
      "text/plain": [
       "662"
      ]
     },
     "execution_count": 7,
     "metadata": {},
     "output_type": "execute_result"
    }
   ],
   "source": [
    "len(count1)"
   ]
  },
  {
   "cell_type": "code",
   "execution_count": 8,
   "metadata": {},
   "outputs": [
    {
     "data": {
      "text/plain": [
       "662"
      ]
     },
     "execution_count": 8,
     "metadata": {},
     "output_type": "execute_result"
    }
   ],
   "source": [
    "len(set(tokens1))"
   ]
  },
  {
   "cell_type": "markdown",
   "metadata": {},
   "source": [
    "1672 tokens in a1.txt\n",
    "\n",
    "662 unique tokens in a1.txt"
   ]
  },
  {
   "cell_type": "code",
   "execution_count": 9,
   "metadata": {},
   "outputs": [],
   "source": [
    "f = open('Data/a2.txt', 'r')\n",
    "\n",
    "tokens2 = get_tokens()\n",
    "count2 = Counter(tokens2)"
   ]
  },
  {
   "cell_type": "code",
   "execution_count": 10,
   "metadata": {},
   "outputs": [
    {
     "data": {
      "text/plain": [
       "[('the', 285),\n",
       " ('and', 134),\n",
       " ('in', 110),\n",
       " ('of', 110),\n",
       " ('Ash', 106),\n",
       " ('to', 100),\n",
       " ('a', 97),\n",
       " ('Pokémon', 88),\n",
       " ('his', 64),\n",
       " ('as', 54),\n",
       " ('is', 43),\n",
       " ('with', 40),\n",
       " ('he', 33),\n",
       " ('was', 33),\n",
       " ('anime', 27),\n",
       " ('from', 27),\n",
       " ('The', 27),\n",
       " ('by', 25),\n",
       " ('League', 25),\n",
       " ('character', 24),\n",
       " ('that', 24),\n",
       " ('series', 23),\n",
       " ('on', 23),\n",
       " ('In', 23),\n",
       " ('has', 21),\n",
       " ('Pikachu', 21),\n",
       " ('all', 20),\n",
       " ('also', 20),\n",
       " ('him', 20),\n",
       " ('for', 18),\n",
       " ('which', 16),\n",
       " ('He', 15),\n",
       " ('Ashs', 15),\n",
       " ('Team', 15),\n",
       " ('first', 14),\n",
       " ('more', 14),\n",
       " ('had', 14),\n",
       " ('trainer', 14),\n",
       " ('their', 14),\n",
       " ('episode', 13),\n",
       " ('characters', 12),\n",
       " ('one', 12),\n",
       " ('new', 12),\n",
       " ('Ketchum', 11),\n",
       " ('show', 11),\n",
       " ('an', 11),\n",
       " ('rival', 11),\n",
       " ('they', 11),\n",
       " ('it', 11),\n",
       " ('against', 11)]"
      ]
     },
     "execution_count": 10,
     "metadata": {},
     "output_type": "execute_result"
    }
   ],
   "source": [
    "count2.most_common(50)"
   ]
  },
  {
   "cell_type": "code",
   "execution_count": 11,
   "metadata": {},
   "outputs": [
    {
     "data": {
      "text/plain": [
       "4223"
      ]
     },
     "execution_count": 11,
     "metadata": {},
     "output_type": "execute_result"
    }
   ],
   "source": [
    "len(tokens2)"
   ]
  },
  {
   "cell_type": "code",
   "execution_count": 12,
   "metadata": {},
   "outputs": [
    {
     "data": {
      "text/plain": [
       "1338"
      ]
     },
     "execution_count": 12,
     "metadata": {},
     "output_type": "execute_result"
    }
   ],
   "source": [
    "len(count2)"
   ]
  },
  {
   "cell_type": "code",
   "execution_count": 13,
   "metadata": {},
   "outputs": [
    {
     "data": {
      "text/plain": [
       "1338"
      ]
     },
     "execution_count": 13,
     "metadata": {},
     "output_type": "execute_result"
    }
   ],
   "source": [
    "len(set(tokens2))"
   ]
  },
  {
   "cell_type": "markdown",
   "metadata": {},
   "source": [
    "4223 tokens in a2.txt\n",
    "\n",
    "1338 unique tokens in a2.txt"
   ]
  },
  {
   "cell_type": "code",
   "execution_count": 14,
   "metadata": {},
   "outputs": [],
   "source": [
    "f = open('Data/a3.txt', 'r')\n",
    "\n",
    "tokens3 = get_tokens()\n",
    "count3 = Counter(tokens3)"
   ]
  },
  {
   "cell_type": "code",
   "execution_count": 15,
   "metadata": {},
   "outputs": [
    {
     "data": {
      "text/plain": [
       "[('the', 96),\n",
       " ('of', 65),\n",
       " ('a', 59),\n",
       " ('and', 59),\n",
       " ('Jigglypuff', 55),\n",
       " ('to', 52),\n",
       " ('Pokémon', 49),\n",
       " ('in', 42),\n",
       " ('it', 32),\n",
       " ('as', 28),\n",
       " ('is', 28),\n",
       " ('by', 25),\n",
       " ('its', 24),\n",
       " ('was', 15),\n",
       " ('series', 14),\n",
       " ('on', 14),\n",
       " ('In', 13),\n",
       " ('has', 13),\n",
       " ('which', 13),\n",
       " ('The', 12),\n",
       " ('for', 12),\n",
       " ('with', 11),\n",
       " ('when', 10),\n",
       " ('anime', 10),\n",
       " ('one', 10),\n",
       " ('that', 10),\n",
       " ('Jigglypuffs', 10),\n",
       " ('games', 9),\n",
       " ('character', 9),\n",
       " ('her', 9),\n",
       " ('their', 8),\n",
       " ('first', 7),\n",
       " ('into', 7),\n",
       " ('or', 6),\n",
       " ('evolves', 6),\n",
       " ('several', 6),\n",
       " ('It', 6),\n",
       " ('are', 6),\n",
       " ('sleep', 6),\n",
       " ('who', 6),\n",
       " ('asleep', 6),\n",
       " ('song', 6),\n",
       " ('popular', 6),\n",
       " ('species', 5),\n",
       " ('Game', 5),\n",
       " ('franchise', 5),\n",
       " ('appeared', 5),\n",
       " ('Wigglytuff', 5),\n",
       " ('been', 5),\n",
       " ('characters', 5)]"
      ]
     },
     "execution_count": 15,
     "metadata": {},
     "output_type": "execute_result"
    }
   ],
   "source": [
    "count3.most_common(50)"
   ]
  },
  {
   "cell_type": "code",
   "execution_count": 16,
   "metadata": {},
   "outputs": [
    {
     "data": {
      "text/plain": [
       "1905"
      ]
     },
     "execution_count": 16,
     "metadata": {},
     "output_type": "execute_result"
    }
   ],
   "source": [
    "len(tokens3)"
   ]
  },
  {
   "cell_type": "code",
   "execution_count": 17,
   "metadata": {},
   "outputs": [
    {
     "data": {
      "text/plain": [
       "744"
      ]
     },
     "execution_count": 17,
     "metadata": {},
     "output_type": "execute_result"
    }
   ],
   "source": [
    "len(count3)"
   ]
  },
  {
   "cell_type": "code",
   "execution_count": 18,
   "metadata": {},
   "outputs": [
    {
     "data": {
      "text/plain": [
       "744"
      ]
     },
     "execution_count": 18,
     "metadata": {},
     "output_type": "execute_result"
    }
   ],
   "source": [
    "len(set(tokens3))"
   ]
  },
  {
   "cell_type": "markdown",
   "metadata": {},
   "source": [
    "1905 tokens in a3.txt\n",
    "\n",
    "744 unique tokens in a3.txt"
   ]
  },
  {
   "cell_type": "code",
   "execution_count": 19,
   "metadata": {},
   "outputs": [],
   "source": [
    "f = open('Data/a4.txt', 'r')\n",
    "\n",
    "tokens4 = get_tokens()\n",
    "count4 = Counter(tokens4)"
   ]
  },
  {
   "cell_type": "code",
   "execution_count": 20,
   "metadata": {},
   "outputs": [
    {
     "data": {
      "text/plain": [
       "[('the', 174),\n",
       " ('and', 112),\n",
       " ('Charizard', 101),\n",
       " ('Pokémon', 81),\n",
       " ('of', 75),\n",
       " ('a', 61),\n",
       " ('to', 58),\n",
       " ('in', 57),\n",
       " ('as', 37),\n",
       " ('is', 36),\n",
       " ('with', 26),\n",
       " ('it', 25),\n",
       " ('Ash', 24),\n",
       " ('its', 22),\n",
       " ('by', 20),\n",
       " ('Mega', 20),\n",
       " ('one', 20),\n",
       " ('In', 18),\n",
       " ('that', 16),\n",
       " ('Ashs', 16),\n",
       " ('from', 15),\n",
       " ('character', 15),\n",
       " ('was', 15),\n",
       " ('his', 15),\n",
       " ('Red', 14),\n",
       " ('Charmander', 14),\n",
       " ('an', 14),\n",
       " ('has', 13),\n",
       " ('battle', 13),\n",
       " ('for', 12),\n",
       " ('who', 11),\n",
       " ('Charmeleon', 11),\n",
       " ('X', 11),\n",
       " ('which', 11),\n",
       " ('most', 11),\n",
       " ('their', 11),\n",
       " ('into', 11),\n",
       " ('Blue', 10),\n",
       " ('Charizards', 10),\n",
       " ('on', 10),\n",
       " ('can', 10),\n",
       " ('It', 9),\n",
       " ('out', 9),\n",
       " ('when', 9),\n",
       " ('The', 9),\n",
       " ('he', 9),\n",
       " ('against', 9),\n",
       " ('Y', 8),\n",
       " ('series', 8),\n",
       " ('appears', 8)]"
      ]
     },
     "execution_count": 20,
     "metadata": {},
     "output_type": "execute_result"
    }
   ],
   "source": [
    "count4.most_common(50)"
   ]
  },
  {
   "cell_type": "code",
   "execution_count": 21,
   "metadata": {},
   "outputs": [
    {
     "data": {
      "text/plain": [
       "2885"
      ]
     },
     "execution_count": 21,
     "metadata": {},
     "output_type": "execute_result"
    }
   ],
   "source": [
    "len(tokens4)"
   ]
  },
  {
   "cell_type": "code",
   "execution_count": 22,
   "metadata": {},
   "outputs": [
    {
     "data": {
      "text/plain": [
       "1033"
      ]
     },
     "execution_count": 22,
     "metadata": {},
     "output_type": "execute_result"
    }
   ],
   "source": [
    "len(count4)"
   ]
  },
  {
   "cell_type": "code",
   "execution_count": 23,
   "metadata": {},
   "outputs": [
    {
     "data": {
      "text/plain": [
       "1033"
      ]
     },
     "execution_count": 23,
     "metadata": {},
     "output_type": "execute_result"
    }
   ],
   "source": [
    "len(set(tokens4))"
   ]
  },
  {
   "cell_type": "markdown",
   "metadata": {},
   "source": [
    "2885 tokens in a4.txt\n",
    "\n",
    "1033 unique tokens in a4.txt"
   ]
  },
  {
   "cell_type": "code",
   "execution_count": 24,
   "metadata": {},
   "outputs": [],
   "source": [
    "f = open('Data/a5.txt', 'r')\n",
    "\n",
    "tokens5 = get_tokens()\n",
    "count5 = Counter(tokens5)"
   ]
  },
  {
   "cell_type": "code",
   "execution_count": 25,
   "metadata": {},
   "outputs": [
    {
     "data": {
      "text/plain": [
       "[('the', 174),\n",
       " ('Mewtwo', 108),\n",
       " ('and', 103),\n",
       " ('of', 80),\n",
       " ('in', 73),\n",
       " ('a', 69),\n",
       " ('to', 67),\n",
       " ('Pokémon', 59),\n",
       " ('as', 58),\n",
       " ('it', 39),\n",
       " ('by', 36),\n",
       " ('is', 35),\n",
       " ('its', 34),\n",
       " ('In', 27),\n",
       " ('for', 24),\n",
       " ('character', 22),\n",
       " ('was', 21),\n",
       " ('The', 21),\n",
       " ('which', 19),\n",
       " ('from', 17),\n",
       " ('games', 17),\n",
       " ('on', 17),\n",
       " ('that', 17),\n",
       " ('with', 16),\n",
       " ('Mewtwos', 13),\n",
       " ('film', 13),\n",
       " ('Mew', 12),\n",
       " ('Japanese', 11),\n",
       " ('anime', 11),\n",
       " ('been', 11),\n",
       " ('has', 11),\n",
       " ('Mega', 11),\n",
       " ('his', 11),\n",
       " ('voiced', 10),\n",
       " ('have', 10),\n",
       " ('Red', 9),\n",
       " ('other', 9),\n",
       " ('such', 9),\n",
       " ('an', 9),\n",
       " ('be', 9),\n",
       " ('also', 9),\n",
       " ('one', 8),\n",
       " ('series', 8),\n",
       " ('characters', 8),\n",
       " ('appears', 8),\n",
       " ('after', 8),\n",
       " ('Smash', 8),\n",
       " ('Nintendo', 7),\n",
       " ('player', 7),\n",
       " ('being', 7)]"
      ]
     },
     "execution_count": 25,
     "metadata": {},
     "output_type": "execute_result"
    }
   ],
   "source": [
    "count5.most_common(50)"
   ]
  },
  {
   "cell_type": "code",
   "execution_count": 26,
   "metadata": {},
   "outputs": [
    {
     "data": {
      "text/plain": [
       "2998"
      ]
     },
     "execution_count": 26,
     "metadata": {},
     "output_type": "execute_result"
    }
   ],
   "source": [
    "len(tokens5)"
   ]
  },
  {
   "cell_type": "code",
   "execution_count": 27,
   "metadata": {},
   "outputs": [
    {
     "data": {
      "text/plain": [
       "1113"
      ]
     },
     "execution_count": 27,
     "metadata": {},
     "output_type": "execute_result"
    }
   ],
   "source": [
    "len(count5)"
   ]
  },
  {
   "cell_type": "code",
   "execution_count": 28,
   "metadata": {},
   "outputs": [
    {
     "data": {
      "text/plain": [
       "1113"
      ]
     },
     "execution_count": 28,
     "metadata": {},
     "output_type": "execute_result"
    }
   ],
   "source": [
    "len(set(tokens5))"
   ]
  },
  {
   "cell_type": "markdown",
   "metadata": {},
   "source": [
    "2998 tokens in a5.txt\n",
    "\n",
    "1113 unique tokens in a5.txt"
   ]
  },
  {
   "cell_type": "code",
   "execution_count": 29,
   "metadata": {},
   "outputs": [],
   "source": [
    "f = open('Data/a6.txt', 'r')\n",
    "\n",
    "tokens6 = get_tokens()\n",
    "count6 = Counter(tokens6)"
   ]
  },
  {
   "cell_type": "code",
   "execution_count": 30,
   "metadata": {},
   "outputs": [
    {
     "data": {
      "text/plain": [
       "[('the', 75),\n",
       " ('Meowth', 55),\n",
       " ('and', 50),\n",
       " ('in', 45),\n",
       " ('Pokémon', 44),\n",
       " ('a', 40),\n",
       " ('to', 38),\n",
       " ('as', 31),\n",
       " ('of', 29),\n",
       " ('that', 18),\n",
       " ('is', 16),\n",
       " ('it', 16),\n",
       " ('anime', 12),\n",
       " ('was', 11),\n",
       " ('its', 11),\n",
       " ('which', 10),\n",
       " ('In', 10),\n",
       " ('not', 10),\n",
       " ('by', 9),\n",
       " ('one', 9),\n",
       " ('has', 9),\n",
       " ('him', 9),\n",
       " ('their', 9),\n",
       " ('have', 8),\n",
       " ('on', 8),\n",
       " ('he', 8),\n",
       " ('his', 8),\n",
       " ('from', 8),\n",
       " ('first', 7),\n",
       " ('games', 7),\n",
       " ('an', 7),\n",
       " ('at', 7),\n",
       " ('character', 7),\n",
       " ('for', 7),\n",
       " ('species', 6),\n",
       " ('Game', 6),\n",
       " ('series', 6),\n",
       " ('The', 6),\n",
       " ('Japanese', 5),\n",
       " ('language', 5),\n",
       " ('Nintendo', 5),\n",
       " ('most', 5),\n",
       " ('into', 5),\n",
       " ('Team', 5),\n",
       " ('Rocket', 5),\n",
       " ('speak', 5),\n",
       " ('characters', 5),\n",
       " ('would', 5),\n",
       " ('appearance', 5),\n",
       " ('appears', 5)]"
      ]
     },
     "execution_count": 30,
     "metadata": {},
     "output_type": "execute_result"
    }
   ],
   "source": [
    "count6.most_common(50)"
   ]
  },
  {
   "cell_type": "code",
   "execution_count": 31,
   "metadata": {},
   "outputs": [
    {
     "data": {
      "text/plain": [
       "1542"
      ]
     },
     "execution_count": 31,
     "metadata": {},
     "output_type": "execute_result"
    }
   ],
   "source": [
    "len(tokens6)"
   ]
  },
  {
   "cell_type": "code",
   "execution_count": 32,
   "metadata": {},
   "outputs": [
    {
     "data": {
      "text/plain": [
       "639"
      ]
     },
     "execution_count": 32,
     "metadata": {},
     "output_type": "execute_result"
    }
   ],
   "source": [
    "len(count6)"
   ]
  },
  {
   "cell_type": "code",
   "execution_count": 33,
   "metadata": {},
   "outputs": [
    {
     "data": {
      "text/plain": [
       "639"
      ]
     },
     "execution_count": 33,
     "metadata": {},
     "output_type": "execute_result"
    }
   ],
   "source": [
    "len(set(count6))"
   ]
  },
  {
   "cell_type": "markdown",
   "metadata": {},
   "source": [
    "1542 tokens in a6.txt\n",
    "\n",
    "639 unique tokens in a6.txt"
   ]
  },
  {
   "cell_type": "code",
   "execution_count": 34,
   "metadata": {},
   "outputs": [],
   "source": [
    "f = open('Data/a7.txt', 'r')\n",
    "\n",
    "tokens7 = get_tokens()\n",
    "count7 = Counter(tokens7)"
   ]
  },
  {
   "cell_type": "code",
   "execution_count": 35,
   "metadata": {},
   "outputs": [
    {
     "data": {
      "text/plain": [
       "[('the', 76),\n",
       " ('and', 55),\n",
       " ('in', 48),\n",
       " ('Gengar', 44),\n",
       " ('Pokémon', 41),\n",
       " ('of', 39),\n",
       " ('a', 33),\n",
       " ('to', 32),\n",
       " ('its', 23),\n",
       " ('it', 20),\n",
       " ('as', 17),\n",
       " ('is', 15),\n",
       " ('by', 15),\n",
       " ('with', 13),\n",
       " ('was', 13),\n",
       " ('that', 12),\n",
       " ('In', 11),\n",
       " ('for', 11),\n",
       " ('Blue', 9),\n",
       " ('Red', 8),\n",
       " ('best', 7),\n",
       " ('an', 7),\n",
       " ('The', 7),\n",
       " ('Nintendo', 6),\n",
       " ('Mega', 6),\n",
       " ('also', 6),\n",
       " ('from', 6),\n",
       " ('Haunter', 6),\n",
       " ('species', 5),\n",
       " ('Game', 5),\n",
       " ('It', 5),\n",
       " ('appeared', 5),\n",
       " ('games', 5),\n",
       " ('Japanese', 5),\n",
       " ('have', 5),\n",
       " ('Ghost', 5),\n",
       " ('which', 5),\n",
       " ('game', 5),\n",
       " ('Gym', 5),\n",
       " ('her', 5),\n",
       " ('A', 5),\n",
       " ('their', 4),\n",
       " ('name', 4),\n",
       " ('later', 4),\n",
       " ('are', 4),\n",
       " ('has', 4),\n",
       " ('noted', 4),\n",
       " ('children', 4),\n",
       " ('appearance', 4),\n",
       " ('IGN', 4)]"
      ]
     },
     "execution_count": 35,
     "metadata": {},
     "output_type": "execute_result"
    }
   ],
   "source": [
    "count7.most_common(50)"
   ]
  },
  {
   "cell_type": "code",
   "execution_count": 36,
   "metadata": {},
   "outputs": [
    {
     "data": {
      "text/plain": [
       "1421"
      ]
     },
     "execution_count": 36,
     "metadata": {},
     "output_type": "execute_result"
    }
   ],
   "source": [
    "len(tokens7)"
   ]
  },
  {
   "cell_type": "code",
   "execution_count": 37,
   "metadata": {},
   "outputs": [
    {
     "data": {
      "text/plain": [
       "623"
      ]
     },
     "execution_count": 37,
     "metadata": {},
     "output_type": "execute_result"
    }
   ],
   "source": [
    "len(count7)"
   ]
  },
  {
   "cell_type": "code",
   "execution_count": 38,
   "metadata": {},
   "outputs": [
    {
     "data": {
      "text/plain": [
       "623"
      ]
     },
     "execution_count": 38,
     "metadata": {},
     "output_type": "execute_result"
    }
   ],
   "source": [
    "len(set(tokens7))"
   ]
  },
  {
   "cell_type": "markdown",
   "metadata": {},
   "source": [
    "1421 tokens in a7.txt\n",
    "\n",
    "623 unique tokens in a7.txt"
   ]
  },
  {
   "cell_type": "code",
   "execution_count": 39,
   "metadata": {},
   "outputs": [],
   "source": [
    "f = open('Data/a8.txt', 'r')\n",
    "\n",
    "tokens8 = get_tokens()\n",
    "count8 = Counter(tokens8)"
   ]
  },
  {
   "cell_type": "code",
   "execution_count": 40,
   "metadata": {},
   "outputs": [
    {
     "data": {
      "text/plain": [
       "[('the', 95),\n",
       " ('and', 58),\n",
       " ('in', 51),\n",
       " ('Jynx', 49),\n",
       " ('of', 44),\n",
       " ('Pokémon', 36),\n",
       " ('a', 34),\n",
       " ('to', 31),\n",
       " ('as', 26),\n",
       " ('design', 15),\n",
       " ('with', 15),\n",
       " ('it', 15),\n",
       " ('is', 12),\n",
       " ('by', 12),\n",
       " ('on', 12),\n",
       " ('was', 11),\n",
       " ('an', 11),\n",
       " ('games', 10),\n",
       " ('episodes', 10),\n",
       " ('their', 9),\n",
       " ('In', 9),\n",
       " ('Jynxs', 8),\n",
       " ('described', 8),\n",
       " ('its', 8),\n",
       " ('from', 8),\n",
       " ('which', 8),\n",
       " ('that', 8),\n",
       " ('her', 8),\n",
       " ('later', 7),\n",
       " ('appearance', 7),\n",
       " ('purple', 7),\n",
       " ('have', 7),\n",
       " ('Game', 6),\n",
       " ('The', 6),\n",
       " ('were', 6),\n",
       " ('episode', 6),\n",
       " ('first', 5),\n",
       " ('appeared', 5),\n",
       " ('Red', 5),\n",
       " ('Japanese', 5),\n",
       " ('after', 5),\n",
       " ('anime', 5),\n",
       " ('black', 5),\n",
       " ('one', 5),\n",
       " ('for', 5),\n",
       " ('can', 5),\n",
       " ('series', 5),\n",
       " ('controversy', 5),\n",
       " ('also', 5),\n",
       " ('Nintendo', 4)]"
      ]
     },
     "execution_count": 40,
     "metadata": {},
     "output_type": "execute_result"
    }
   ],
   "source": [
    "count8.most_common(50)"
   ]
  },
  {
   "cell_type": "code",
   "execution_count": 41,
   "metadata": {},
   "outputs": [
    {
     "data": {
      "text/plain": [
       "1591"
      ]
     },
     "execution_count": 41,
     "metadata": {},
     "output_type": "execute_result"
    }
   ],
   "source": [
    "len(tokens8)"
   ]
  },
  {
   "cell_type": "code",
   "execution_count": 42,
   "metadata": {},
   "outputs": [
    {
     "data": {
      "text/plain": [
       "698"
      ]
     },
     "execution_count": 42,
     "metadata": {},
     "output_type": "execute_result"
    }
   ],
   "source": [
    "len(count8)"
   ]
  },
  {
   "cell_type": "code",
   "execution_count": 43,
   "metadata": {},
   "outputs": [
    {
     "data": {
      "text/plain": [
       "698"
      ]
     },
     "execution_count": 43,
     "metadata": {},
     "output_type": "execute_result"
    }
   ],
   "source": [
    "len(set(tokens8))"
   ]
  },
  {
   "cell_type": "markdown",
   "metadata": {},
   "source": [
    "1591 tokens in a8.txt\n",
    "\n",
    "698 unique tokens in a8.txt"
   ]
  },
  {
   "cell_type": "code",
   "execution_count": 44,
   "metadata": {},
   "outputs": [],
   "source": [
    "f = open('Data/a9.txt', 'r')\n",
    "\n",
    "tokens9 = get_tokens()\n",
    "count9 = Counter(tokens9)"
   ]
  },
  {
   "cell_type": "code",
   "execution_count": 45,
   "metadata": {},
   "outputs": [
    {
     "data": {
      "text/plain": [
       "[('a', 59),\n",
       " ('Togepi', 56),\n",
       " ('the', 53),\n",
       " ('and', 50),\n",
       " ('to', 39),\n",
       " ('Pokémon', 37),\n",
       " ('of', 32),\n",
       " ('in', 31),\n",
       " ('it', 25),\n",
       " ('is', 23),\n",
       " ('as', 21),\n",
       " ('its', 20),\n",
       " ('that', 14),\n",
       " ('on', 13),\n",
       " ('In', 12),\n",
       " ('which', 10),\n",
       " ('has', 10),\n",
       " ('first', 9),\n",
       " ('Gold', 9),\n",
       " ('with', 9),\n",
       " ('Togetic', 9),\n",
       " ('Togekiss', 9),\n",
       " ('egg', 8),\n",
       " ('was', 8),\n",
       " ('Misty', 7),\n",
       " ('anime', 6),\n",
       " ('also', 6),\n",
       " ('who', 6),\n",
       " ('into', 6),\n",
       " ('appeared', 5),\n",
       " ('It', 5),\n",
       " ('Silver', 5),\n",
       " ('red', 5),\n",
       " ('blue', 5),\n",
       " ('one', 5),\n",
       " ('an', 5),\n",
       " ('from', 5),\n",
       " ('for', 4),\n",
       " ('games', 4),\n",
       " ('body', 4),\n",
       " ('evolution', 4),\n",
       " ('after', 4),\n",
       " ('appearance', 4),\n",
       " ('called', 4),\n",
       " ('player', 4),\n",
       " ('design', 4),\n",
       " ('Togepis', 4),\n",
       " ('will', 4),\n",
       " ('back', 4),\n",
       " ('her', 4)]"
      ]
     },
     "execution_count": 45,
     "metadata": {},
     "output_type": "execute_result"
    }
   ],
   "source": [
    "count9.most_common(50)"
   ]
  },
  {
   "cell_type": "code",
   "execution_count": 46,
   "metadata": {},
   "outputs": [
    {
     "data": {
      "text/plain": [
       "1401"
      ]
     },
     "execution_count": 46,
     "metadata": {},
     "output_type": "execute_result"
    }
   ],
   "source": [
    "len(tokens9)"
   ]
  },
  {
   "cell_type": "code",
   "execution_count": 47,
   "metadata": {},
   "outputs": [
    {
     "data": {
      "text/plain": [
       "602"
      ]
     },
     "execution_count": 47,
     "metadata": {},
     "output_type": "execute_result"
    }
   ],
   "source": [
    "len(count9)"
   ]
  },
  {
   "cell_type": "code",
   "execution_count": 48,
   "metadata": {},
   "outputs": [
    {
     "data": {
      "text/plain": [
       "602"
      ]
     },
     "execution_count": 48,
     "metadata": {},
     "output_type": "execute_result"
    }
   ],
   "source": [
    "len(set(tokens9))"
   ]
  },
  {
   "cell_type": "markdown",
   "metadata": {},
   "source": [
    "1401 tokens in a9.txt\n",
    "\n",
    "602 unique tokens in a9.txt"
   ]
  },
  {
   "cell_type": "code",
   "execution_count": 49,
   "metadata": {},
   "outputs": [],
   "source": [
    "f = open('Data/a10.txt', 'r')\n",
    "\n",
    "tokens10 = get_tokens()\n",
    "count10 = Counter(tokens10)"
   ]
  },
  {
   "cell_type": "code",
   "execution_count": 50,
   "metadata": {},
   "outputs": [
    {
     "data": {
      "text/plain": [
       "[('the', 65),\n",
       " ('and', 52),\n",
       " ('Snorlax', 42),\n",
       " ('a', 32),\n",
       " ('of', 31),\n",
       " ('Pokémon', 30),\n",
       " ('it', 28),\n",
       " ('to', 27),\n",
       " ('in', 25),\n",
       " ('is', 19),\n",
       " ('as', 14),\n",
       " ('by', 14),\n",
       " ('In', 14),\n",
       " ('was', 11),\n",
       " ('its', 11),\n",
       " ('has', 10),\n",
       " ('Red', 8),\n",
       " ('most', 8),\n",
       " ('for', 8),\n",
       " ('games', 7),\n",
       " ('character', 7),\n",
       " ('one', 7),\n",
       " ('that', 7),\n",
       " ('called', 7),\n",
       " ('when', 6),\n",
       " ('also', 6),\n",
       " ('but', 6),\n",
       " ('with', 6),\n",
       " ('later', 5),\n",
       " ('been', 5),\n",
       " ('Ash', 5),\n",
       " ('IGN', 5),\n",
       " ('an', 5),\n",
       " ('known', 4),\n",
       " ('first', 4),\n",
       " ('It', 4),\n",
       " ('until', 4),\n",
       " ('powerful', 4),\n",
       " ('which', 4),\n",
       " ('their', 4),\n",
       " ('children', 4),\n",
       " ('sleeping', 4),\n",
       " ('from', 4),\n",
       " ('time', 4),\n",
       " ('The', 4),\n",
       " ('player', 4),\n",
       " ('must', 4),\n",
       " ('up', 4),\n",
       " ('used', 4),\n",
       " ('on', 4)]"
      ]
     },
     "execution_count": 50,
     "metadata": {},
     "output_type": "execute_result"
    }
   ],
   "source": [
    "count10.most_common(50)"
   ]
  },
  {
   "cell_type": "code",
   "execution_count": 51,
   "metadata": {},
   "outputs": [
    {
     "data": {
      "text/plain": [
       "1247"
      ]
     },
     "execution_count": 51,
     "metadata": {},
     "output_type": "execute_result"
    }
   ],
   "source": [
    "len(tokens10)"
   ]
  },
  {
   "cell_type": "code",
   "execution_count": 52,
   "metadata": {},
   "outputs": [
    {
     "data": {
      "text/plain": [
       "560"
      ]
     },
     "execution_count": 52,
     "metadata": {},
     "output_type": "execute_result"
    }
   ],
   "source": [
    "len(count10)"
   ]
  },
  {
   "cell_type": "code",
   "execution_count": 53,
   "metadata": {},
   "outputs": [
    {
     "data": {
      "text/plain": [
       "560"
      ]
     },
     "execution_count": 53,
     "metadata": {},
     "output_type": "execute_result"
    }
   ],
   "source": [
    "len(set(tokens10))"
   ]
  },
  {
   "cell_type": "markdown",
   "metadata": {},
   "source": [
    "1247 tokens in a10.txt\n",
    "\n",
    "560 unique tokens in a10.txt"
   ]
  },
  {
   "cell_type": "code",
   "execution_count": 54,
   "metadata": {},
   "outputs": [],
   "source": [
    "allTokens = len(tokens1) + len(tokens2) + len(tokens3) + len(tokens4) + len(tokens5) + len(tokens6) + len(tokens7) + len(tokens8) + len(tokens9) + len(tokens10)"
   ]
  },
  {
   "cell_type": "code",
   "execution_count": 55,
   "metadata": {},
   "outputs": [
    {
     "name": "stdout",
     "output_type": "stream",
     "text": [
      "20885\n"
     ]
    }
   ],
   "source": [
    "print(allTokens)"
   ]
  },
  {
   "cell_type": "code",
   "execution_count": 56,
   "metadata": {},
   "outputs": [],
   "source": [
    "allUniqueTokens = len(count1) + len(count2) + len(count3) + len(count4) + len(count5) + len(count6) + len(count7) + len(count8) + len(count9) + len(count10)"
   ]
  },
  {
   "cell_type": "code",
   "execution_count": 57,
   "metadata": {},
   "outputs": [
    {
     "name": "stdout",
     "output_type": "stream",
     "text": [
      "8012\n"
     ]
    }
   ],
   "source": [
    "# this is not unique tokens only - some are unique in their documents but repeat in others\n",
    "print(allUniqueTokens)"
   ]
  },
  {
   "cell_type": "code",
   "execution_count": 58,
   "metadata": {},
   "outputs": [],
   "source": [
    "allData = ['Data/a1.txt', 'Data/a2.txt', 'Data/a3.txt', 'Data/a4.txt', 'Data/a5.txt', 'Data/a6.txt', 'Data/a7.txt', 'Data/a8.txt', 'Data/a9.txt', 'Data/a10.txt']\n",
    "\n",
    "with open('allData.txt', 'w') as outfile:\n",
    "    for names in allData:\n",
    "        with open(names) as infile:\n",
    "            outfile.write(infile.read())\n",
    "        outfile.write(\"\\n\")"
   ]
  },
  {
   "cell_type": "code",
   "execution_count": 59,
   "metadata": {},
   "outputs": [],
   "source": [
    "f = open('allData.txt', 'r')\n",
    "\n",
    "tokensAll = get_tokens()\n",
    "countAll = Counter(tokensAll)"
   ]
  },
  {
   "cell_type": "code",
   "execution_count": 60,
   "metadata": {},
   "outputs": [
    {
     "data": {
      "text/plain": [
       "20885"
      ]
     },
     "execution_count": 60,
     "metadata": {},
     "output_type": "execute_result"
    }
   ],
   "source": [
    "len(tokensAll)"
   ]
  },
  {
   "cell_type": "code",
   "execution_count": 61,
   "metadata": {},
   "outputs": [
    {
     "data": {
      "text/plain": [
       "4144"
      ]
     },
     "execution_count": 61,
     "metadata": {},
     "output_type": "execute_result"
    }
   ],
   "source": [
    "len(countAll)"
   ]
  },
  {
   "cell_type": "code",
   "execution_count": 62,
   "metadata": {},
   "outputs": [
    {
     "data": {
      "text/plain": [
       "4144"
      ]
     },
     "execution_count": 62,
     "metadata": {},
     "output_type": "execute_result"
    }
   ],
   "source": [
    "len(set(tokensAll))"
   ]
  },
  {
   "cell_type": "markdown",
   "metadata": {},
   "source": [
    "20885 tokens in all 10 documents\n",
    "\n",
    "4144 unique tokens in all 10 documents"
   ]
  },
  {
   "cell_type": "code",
   "execution_count": 63,
   "metadata": {},
   "outputs": [],
   "source": [
    "from nltk.corpus import stopwords"
   ]
  },
  {
   "cell_type": "code",
   "execution_count": 64,
   "metadata": {},
   "outputs": [],
   "source": [
    "filtered1 = [w for w in tokens1 if not w in stopwords.words('english')]\n",
    "fcount1 = Counter(filtered1)"
   ]
  },
  {
   "cell_type": "code",
   "execution_count": 65,
   "metadata": {},
   "outputs": [
    {
     "data": {
      "text/plain": [
       "[('Gyarados', 62),\n",
       " ('Pokémon', 53),\n",
       " ('one', 14),\n",
       " ('Magikarp', 13),\n",
       " ('In', 13),\n",
       " ('Red', 12),\n",
       " ('Blue', 9),\n",
       " ('series', 7),\n",
       " ('It', 7),\n",
       " ('first', 6),\n",
       " ('appeared', 6),\n",
       " ('Misty', 6),\n",
       " ('described', 6),\n",
       " ('used', 6),\n",
       " ('Game', 5),\n",
       " ('games', 5),\n",
       " ('later', 5),\n",
       " ('evolved', 5),\n",
       " ('appears', 5),\n",
       " ('red', 5),\n",
       " ('Silver', 5),\n",
       " ('called', 5),\n",
       " ('game', 5),\n",
       " ('This', 5),\n",
       " ('battle', 5),\n",
       " ('player', 5),\n",
       " ('Team', 5),\n",
       " ('various', 4),\n",
       " ('The', 4),\n",
       " ('flying', 4),\n",
       " ('type', 4),\n",
       " ('team', 4),\n",
       " ('Chinese', 4),\n",
       " ('IGN', 4),\n",
       " ('species', 3),\n",
       " ('video', 3),\n",
       " ('Green', 3),\n",
       " ('merchandise', 3),\n",
       " ('Japanese', 3),\n",
       " ('form', 3),\n",
       " ('well', 3),\n",
       " ('known', 3),\n",
       " ('around', 3),\n",
       " ('times', 3),\n",
       " ('anime', 3),\n",
       " ('trainers', 3),\n",
       " ('Lance', 3),\n",
       " ('Crasher', 3),\n",
       " ('Wake', 3),\n",
       " ('generally', 3)]"
      ]
     },
     "execution_count": 65,
     "metadata": {},
     "output_type": "execute_result"
    }
   ],
   "source": [
    "fcount1.most_common(50)"
   ]
  },
  {
   "cell_type": "code",
   "execution_count": 66,
   "metadata": {},
   "outputs": [
    {
     "data": {
      "text/plain": [
       "1027"
      ]
     },
     "execution_count": 66,
     "metadata": {},
     "output_type": "execute_result"
    }
   ],
   "source": [
    "len(filtered1)"
   ]
  },
  {
   "cell_type": "code",
   "execution_count": 67,
   "metadata": {},
   "outputs": [
    {
     "data": {
      "text/plain": [
       "588"
      ]
     },
     "execution_count": 67,
     "metadata": {},
     "output_type": "execute_result"
    }
   ],
   "source": [
    "len(fcount1)"
   ]
  },
  {
   "cell_type": "code",
   "execution_count": 68,
   "metadata": {},
   "outputs": [
    {
     "data": {
      "text/plain": [
       "588"
      ]
     },
     "execution_count": 68,
     "metadata": {},
     "output_type": "execute_result"
    }
   ],
   "source": [
    "len(set(filtered1))"
   ]
  },
  {
   "cell_type": "markdown",
   "metadata": {},
   "source": [
    "1027 tokens in a1.txt after removing stopwords\n",
    "\n",
    "588 unique tokens in a1.txt after removing stopwords"
   ]
  },
  {
   "cell_type": "code",
   "execution_count": 69,
   "metadata": {},
   "outputs": [
    {
     "data": {
      "text/plain": [
       "[('Ash', 106),\n",
       " ('Pokémon', 88),\n",
       " ('anime', 27),\n",
       " ('The', 27),\n",
       " ('League', 25),\n",
       " ('character', 24),\n",
       " ('series', 23),\n",
       " ('In', 23),\n",
       " ('Pikachu', 21),\n",
       " ('also', 20),\n",
       " ('He', 15),\n",
       " ('Ashs', 15),\n",
       " ('Team', 15),\n",
       " ('first', 14),\n",
       " ('trainer', 14),\n",
       " ('episode', 13),\n",
       " ('characters', 12),\n",
       " ('one', 12),\n",
       " ('new', 12),\n",
       " ('Ketchum', 11),\n",
       " ('show', 11),\n",
       " ('rival', 11),\n",
       " ('well', 10),\n",
       " ('However', 10),\n",
       " ('badges', 10),\n",
       " ('8', 10),\n",
       " ('Japanese', 9),\n",
       " ('Taylor', 9),\n",
       " ('Red', 9),\n",
       " ('I', 9),\n",
       " ('Frontier', 9),\n",
       " ('Kalos', 9),\n",
       " ('games', 8),\n",
       " ('many', 8),\n",
       " ('defeated', 8),\n",
       " ('Top', 8),\n",
       " ('Conference', 8),\n",
       " ('name', 7),\n",
       " ('game', 7),\n",
       " ('named', 7),\n",
       " ('Gary', 7),\n",
       " ('Brock', 7),\n",
       " ('Orange', 7),\n",
       " ('Sinnoh', 7),\n",
       " ('Greninja', 7),\n",
       " ('parody', 7),\n",
       " ('Satoshi', 6),\n",
       " ('season', 6),\n",
       " ('Blue', 6),\n",
       " ('time', 6)]"
      ]
     },
     "execution_count": 69,
     "metadata": {},
     "output_type": "execute_result"
    }
   ],
   "source": [
    "filtered2 = [w for w in tokens2 if not w in stopwords.words('english')]\n",
    "fcount2 = Counter(filtered2)\n",
    "fcount2.most_common(50)"
   ]
  },
  {
   "cell_type": "code",
   "execution_count": 70,
   "metadata": {},
   "outputs": [
    {
     "data": {
      "text/plain": [
       "2537"
      ]
     },
     "execution_count": 70,
     "metadata": {},
     "output_type": "execute_result"
    }
   ],
   "source": [
    "len(filtered2)"
   ]
  },
  {
   "cell_type": "code",
   "execution_count": 71,
   "metadata": {},
   "outputs": [
    {
     "data": {
      "text/plain": [
       "1236"
      ]
     },
     "execution_count": 71,
     "metadata": {},
     "output_type": "execute_result"
    }
   ],
   "source": [
    "len(fcount2)"
   ]
  },
  {
   "cell_type": "code",
   "execution_count": 72,
   "metadata": {},
   "outputs": [
    {
     "data": {
      "text/plain": [
       "1236"
      ]
     },
     "execution_count": 72,
     "metadata": {},
     "output_type": "execute_result"
    }
   ],
   "source": [
    "len(set(filtered2))"
   ]
  },
  {
   "cell_type": "markdown",
   "metadata": {},
   "source": [
    "2537 tokens in a2.txt after removing stopwords\n",
    "\n",
    "1236 unique tokens in a2.txt after removing stopwords"
   ]
  },
  {
   "cell_type": "code",
   "execution_count": 73,
   "metadata": {},
   "outputs": [
    {
     "data": {
      "text/plain": [
       "[('Jigglypuff', 55),\n",
       " ('Pokémon', 49),\n",
       " ('series', 14),\n",
       " ('In', 13),\n",
       " ('The', 12),\n",
       " ('anime', 10),\n",
       " ('one', 10),\n",
       " ('Jigglypuffs', 10),\n",
       " ('games', 9),\n",
       " ('character', 9),\n",
       " ('first', 7),\n",
       " ('evolves', 6),\n",
       " ('several', 6),\n",
       " ('It', 6),\n",
       " ('sleep', 6),\n",
       " ('asleep', 6),\n",
       " ('song', 6),\n",
       " ('popular', 6),\n",
       " ('species', 5),\n",
       " ('Game', 5),\n",
       " ('franchise', 5),\n",
       " ('appeared', 5),\n",
       " ('Wigglytuff', 5),\n",
       " ('characters', 5),\n",
       " ('children', 5),\n",
       " ('sing', 5),\n",
       " ('female', 5),\n",
       " ('Red', 4),\n",
       " ('Moon', 4),\n",
       " ('appearance', 4),\n",
       " ('featured', 4),\n",
       " ('plush', 4),\n",
       " ('game', 4),\n",
       " ('like', 4),\n",
       " ('pink', 4),\n",
       " ('singing', 4),\n",
       " ('two', 4),\n",
       " ('also', 4),\n",
       " ('Nintendo', 3),\n",
       " ('Freaks', 3),\n",
       " ('video', 3),\n",
       " ('Blue', 3),\n",
       " ('printed', 3),\n",
       " ('Japanese', 3),\n",
       " ('action', 3),\n",
       " ('Igglybuff', 3),\n",
       " ('reaches', 3),\n",
       " ('certain', 3),\n",
       " ('point', 3),\n",
       " ('happiness', 3)]"
      ]
     },
     "execution_count": 73,
     "metadata": {},
     "output_type": "execute_result"
    }
   ],
   "source": [
    "filtered3 = [w for w in tokens3 if not w in stopwords.words('english')]\n",
    "fcount3 = Counter(filtered3)\n",
    "fcount3.most_common(50)"
   ]
  },
  {
   "cell_type": "code",
   "execution_count": 74,
   "metadata": {},
   "outputs": [
    {
     "data": {
      "text/plain": [
       "1151"
      ]
     },
     "execution_count": 74,
     "metadata": {},
     "output_type": "execute_result"
    }
   ],
   "source": [
    "len(filtered3)"
   ]
  },
  {
   "cell_type": "code",
   "execution_count": 75,
   "metadata": {},
   "outputs": [
    {
     "data": {
      "text/plain": [
       "676"
      ]
     },
     "execution_count": 75,
     "metadata": {},
     "output_type": "execute_result"
    }
   ],
   "source": [
    "len(fcount3)"
   ]
  },
  {
   "cell_type": "code",
   "execution_count": 76,
   "metadata": {},
   "outputs": [
    {
     "data": {
      "text/plain": [
       "676"
      ]
     },
     "execution_count": 76,
     "metadata": {},
     "output_type": "execute_result"
    }
   ],
   "source": [
    "len(set(filtered3))"
   ]
  },
  {
   "cell_type": "markdown",
   "metadata": {},
   "source": [
    "1151 tokens in a3.txt after removing stopwords\n",
    "\n",
    "676 unique tokens in a3.txt after removing stopwords"
   ]
  },
  {
   "cell_type": "code",
   "execution_count": 77,
   "metadata": {},
   "outputs": [
    {
     "data": {
      "text/plain": [
       "[('Charizard', 101),\n",
       " ('Pokémon', 81),\n",
       " ('Ash', 24),\n",
       " ('Mega', 20),\n",
       " ('one', 20),\n",
       " ('In', 18),\n",
       " ('Ashs', 16),\n",
       " ('character', 15),\n",
       " ('Red', 14),\n",
       " ('Charmander', 14),\n",
       " ('battle', 13),\n",
       " ('Charmeleon', 11),\n",
       " ('X', 11),\n",
       " ('Blue', 10),\n",
       " ('Charizards', 10),\n",
       " ('It', 9),\n",
       " ('The', 9),\n",
       " ('Y', 8),\n",
       " ('series', 8),\n",
       " ('appears', 8),\n",
       " ('anime', 7),\n",
       " ('evolved', 7),\n",
       " ('characters', 7),\n",
       " ('Team', 7),\n",
       " ('Smash', 7),\n",
       " ('League', 7),\n",
       " ('first', 6),\n",
       " ('games', 6),\n",
       " ('They', 6),\n",
       " ('Evolution', 6),\n",
       " ('Super', 6),\n",
       " ('game', 6),\n",
       " ('stated', 6),\n",
       " ('popular', 6),\n",
       " ('powerful', 6),\n",
       " ('three', 6),\n",
       " ('video', 5),\n",
       " ('form', 5),\n",
       " ('two', 5),\n",
       " ('main', 5),\n",
       " ('team', 5),\n",
       " ('called', 5),\n",
       " ('children', 5),\n",
       " ('type', 5),\n",
       " ('also', 5),\n",
       " ('Bros', 5),\n",
       " ('Pikachu', 5),\n",
       " ('Reds', 5),\n",
       " ('Saur', 5),\n",
       " ('editor', 5)]"
      ]
     },
     "execution_count": 77,
     "metadata": {},
     "output_type": "execute_result"
    }
   ],
   "source": [
    "filtered4 = [w for w in tokens4 if not w in stopwords.words('english')]\n",
    "fcount4 = Counter(filtered4)\n",
    "fcount4.most_common(50)"
   ]
  },
  {
   "cell_type": "code",
   "execution_count": 78,
   "metadata": {},
   "outputs": [
    {
     "data": {
      "text/plain": [
       "1792"
      ]
     },
     "execution_count": 78,
     "metadata": {},
     "output_type": "execute_result"
    }
   ],
   "source": [
    "len(filtered4)"
   ]
  },
  {
   "cell_type": "code",
   "execution_count": 79,
   "metadata": {},
   "outputs": [
    {
     "data": {
      "text/plain": [
       "947"
      ]
     },
     "execution_count": 79,
     "metadata": {},
     "output_type": "execute_result"
    }
   ],
   "source": [
    "len(fcount4)"
   ]
  },
  {
   "cell_type": "code",
   "execution_count": 80,
   "metadata": {},
   "outputs": [
    {
     "data": {
      "text/plain": [
       "947"
      ]
     },
     "execution_count": 80,
     "metadata": {},
     "output_type": "execute_result"
    }
   ],
   "source": [
    "len(set(filtered4))"
   ]
  },
  {
   "cell_type": "markdown",
   "metadata": {},
   "source": [
    "1792 tokens in a4.txt after removing stopwords\n",
    "\n",
    "947 unique tokens in a4.txt after removing stopwords"
   ]
  },
  {
   "cell_type": "code",
   "execution_count": 81,
   "metadata": {},
   "outputs": [
    {
     "data": {
      "text/plain": [
       "[('Mewtwo', 108),\n",
       " ('Pokémon', 59),\n",
       " ('In', 27),\n",
       " ('character', 22),\n",
       " ('The', 21),\n",
       " ('games', 17),\n",
       " ('Mewtwos', 13),\n",
       " ('film', 13),\n",
       " ('Mew', 12),\n",
       " ('Japanese', 11),\n",
       " ('anime', 11),\n",
       " ('Mega', 11),\n",
       " ('voiced', 10),\n",
       " ('Red', 9),\n",
       " ('also', 9),\n",
       " ('one', 8),\n",
       " ('series', 8),\n",
       " ('characters', 8),\n",
       " ('appears', 8),\n",
       " ('Smash', 8),\n",
       " ('Nintendo', 7),\n",
       " ('player', 7),\n",
       " ('Super', 7),\n",
       " ('Bros', 7),\n",
       " ('Fuji', 7),\n",
       " ('franchise', 6),\n",
       " ('first', 6),\n",
       " ('video', 6),\n",
       " ('Blue', 6),\n",
       " ('later', 6),\n",
       " ('Strikes', 6),\n",
       " ('Mews', 6),\n",
       " ('Team', 6),\n",
       " ('Giovanni', 6),\n",
       " ('English', 5),\n",
       " ('Back', 5),\n",
       " ('villain', 5),\n",
       " ('clone', 5),\n",
       " ('appearance', 5),\n",
       " ('As', 5),\n",
       " ('DNA', 5),\n",
       " ('abilities', 5),\n",
       " ('Y', 5),\n",
       " ('events', 5),\n",
       " ('featured', 5),\n",
       " ('Rocket', 5),\n",
       " ('Ash', 5),\n",
       " ('described', 5),\n",
       " ('media', 4),\n",
       " ('appeared', 4)]"
      ]
     },
     "execution_count": 81,
     "metadata": {},
     "output_type": "execute_result"
    }
   ],
   "source": [
    "filtered5 = [w for w in tokens5 if not w in stopwords.words('english')]\n",
    "fcount5 = Counter(filtered5)\n",
    "fcount5.most_common(50)"
   ]
  },
  {
   "cell_type": "code",
   "execution_count": 82,
   "metadata": {},
   "outputs": [
    {
     "data": {
      "text/plain": [
       "1875"
      ]
     },
     "execution_count": 82,
     "metadata": {},
     "output_type": "execute_result"
    }
   ],
   "source": [
    "len(filtered5)"
   ]
  },
  {
   "cell_type": "code",
   "execution_count": 83,
   "metadata": {},
   "outputs": [
    {
     "data": {
      "text/plain": [
       "1031"
      ]
     },
     "execution_count": 83,
     "metadata": {},
     "output_type": "execute_result"
    }
   ],
   "source": [
    "len(fcount5)"
   ]
  },
  {
   "cell_type": "code",
   "execution_count": 84,
   "metadata": {},
   "outputs": [
    {
     "data": {
      "text/plain": [
       "1031"
      ]
     },
     "execution_count": 84,
     "metadata": {},
     "output_type": "execute_result"
    }
   ],
   "source": [
    "len(set(filtered5))"
   ]
  },
  {
   "cell_type": "markdown",
   "metadata": {},
   "source": [
    "1875 tokens in a5.txt after removing stopwords\n",
    "\n",
    "1031 unique tokens in a5.txt after removing stopwords"
   ]
  },
  {
   "cell_type": "code",
   "execution_count": 85,
   "metadata": {},
   "outputs": [
    {
     "data": {
      "text/plain": [
       "[('Meowth', 55),\n",
       " ('Pokémon', 44),\n",
       " ('anime', 12),\n",
       " ('In', 10),\n",
       " ('one', 9),\n",
       " ('first', 7),\n",
       " ('games', 7),\n",
       " ('character', 7),\n",
       " ('species', 6),\n",
       " ('Game', 6),\n",
       " ('series', 6),\n",
       " ('The', 6),\n",
       " ('Japanese', 5),\n",
       " ('language', 5),\n",
       " ('Nintendo', 5),\n",
       " ('Team', 5),\n",
       " ('Rocket', 5),\n",
       " ('speak', 5),\n",
       " ('characters', 5),\n",
       " ('would', 5),\n",
       " ('appearance', 5),\n",
       " ('appears', 5),\n",
       " ('franchise', 4),\n",
       " ('appeared', 4),\n",
       " ('Red', 4),\n",
       " ('Blue', 4),\n",
       " ('episode', 4),\n",
       " ('ability', 4),\n",
       " ('human', 4),\n",
       " ('Meowzie', 4),\n",
       " ('two', 4),\n",
       " ('describing', 4),\n",
       " ('game', 4),\n",
       " ('GamesRadar', 4),\n",
       " ('described', 4),\n",
       " ('coins', 4),\n",
       " ('editor', 4),\n",
       " ('known', 3),\n",
       " ('version', 3),\n",
       " ('video', 3),\n",
       " ('It', 3),\n",
       " ('James', 3),\n",
       " ('English', 3),\n",
       " ('city', 3),\n",
       " ('called', 3),\n",
       " ('walk', 3),\n",
       " ('legs', 3),\n",
       " ('said', 3),\n",
       " ('also', 3),\n",
       " ('move', 3)]"
      ]
     },
     "execution_count": 85,
     "metadata": {},
     "output_type": "execute_result"
    }
   ],
   "source": [
    "filtered6 = [w for w in tokens6 if not w in stopwords.words('english')]\n",
    "fcount6 = Counter(filtered6)\n",
    "fcount6.most_common(50)"
   ]
  },
  {
   "cell_type": "code",
   "execution_count": 86,
   "metadata": {},
   "outputs": [
    {
     "data": {
      "text/plain": [
       "941"
      ]
     },
     "execution_count": 86,
     "metadata": {},
     "output_type": "execute_result"
    }
   ],
   "source": [
    "len(filtered6)"
   ]
  },
  {
   "cell_type": "code",
   "execution_count": 87,
   "metadata": {},
   "outputs": [
    {
     "data": {
      "text/plain": [
       "565"
      ]
     },
     "execution_count": 87,
     "metadata": {},
     "output_type": "execute_result"
    }
   ],
   "source": [
    "len(fcount6)"
   ]
  },
  {
   "cell_type": "code",
   "execution_count": 88,
   "metadata": {},
   "outputs": [
    {
     "data": {
      "text/plain": [
       "565"
      ]
     },
     "execution_count": 88,
     "metadata": {},
     "output_type": "execute_result"
    }
   ],
   "source": [
    "len(set(filtered6))"
   ]
  },
  {
   "cell_type": "markdown",
   "metadata": {},
   "source": [
    "941 tokens in a6.txt after removing stopwords\n",
    "\n",
    "565 unique tokens in a6.txt after removing stopwords"
   ]
  },
  {
   "cell_type": "code",
   "execution_count": 89,
   "metadata": {},
   "outputs": [
    {
     "data": {
      "text/plain": [
       "[('Gengar', 44),\n",
       " ('Pokémon', 41),\n",
       " ('In', 11),\n",
       " ('Blue', 9),\n",
       " ('Red', 8),\n",
       " ('best', 7),\n",
       " ('The', 7),\n",
       " ('Nintendo', 6),\n",
       " ('Mega', 6),\n",
       " ('also', 6),\n",
       " ('Haunter', 6),\n",
       " ('species', 5),\n",
       " ('Game', 5),\n",
       " ('It', 5),\n",
       " ('appeared', 5),\n",
       " ('games', 5),\n",
       " ('Japanese', 5),\n",
       " ('Ghost', 5),\n",
       " ('game', 5),\n",
       " ('Gym', 5),\n",
       " ('A', 5),\n",
       " ('name', 4),\n",
       " ('later', 4),\n",
       " ('noted', 4),\n",
       " ('children', 4),\n",
       " ('appearance', 4),\n",
       " ('IGN', 4),\n",
       " ('series', 4),\n",
       " ('characters', 4),\n",
       " ('first', 4),\n",
       " ('form', 4),\n",
       " ('shadow', 4),\n",
       " ('City', 4),\n",
       " ('Ash', 4),\n",
       " ('used', 4),\n",
       " ('franchise', 3),\n",
       " ('popular', 3),\n",
       " ('praised', 3),\n",
       " ('one', 3),\n",
       " ('character', 3),\n",
       " ('due', 3),\n",
       " ('shadows', 3),\n",
       " ('anime', 3),\n",
       " ('Gengars', 3),\n",
       " ('Agatha', 3),\n",
       " ('Leader', 3),\n",
       " ('made', 3),\n",
       " ('favourite', 3),\n",
       " ('design', 3),\n",
       " ('named', 3)]"
      ]
     },
     "execution_count": 89,
     "metadata": {},
     "output_type": "execute_result"
    }
   ],
   "source": [
    "filtered7 = [w for w in tokens7 if not w in stopwords.words('english')]\n",
    "fcount7 = Counter(filtered7)\n",
    "fcount7.most_common(50)"
   ]
  },
  {
   "cell_type": "code",
   "execution_count": 90,
   "metadata": {},
   "outputs": [
    {
     "data": {
      "text/plain": [
       "886"
      ]
     },
     "execution_count": 90,
     "metadata": {},
     "output_type": "execute_result"
    }
   ],
   "source": [
    "len(filtered7)"
   ]
  },
  {
   "cell_type": "code",
   "execution_count": 91,
   "metadata": {},
   "outputs": [
    {
     "data": {
      "text/plain": [
       "561"
      ]
     },
     "execution_count": 91,
     "metadata": {},
     "output_type": "execute_result"
    }
   ],
   "source": [
    "len(fcount7)"
   ]
  },
  {
   "cell_type": "code",
   "execution_count": 92,
   "metadata": {},
   "outputs": [
    {
     "data": {
      "text/plain": [
       "561"
      ]
     },
     "execution_count": 92,
     "metadata": {},
     "output_type": "execute_result"
    }
   ],
   "source": [
    "len(set(filtered7))"
   ]
  },
  {
   "cell_type": "markdown",
   "metadata": {},
   "source": [
    "886 tokens in a7.txt after removing stopwords\n",
    "\n",
    "561 unique tokens in a7.txt after removing stopwords"
   ]
  },
  {
   "cell_type": "code",
   "execution_count": 93,
   "metadata": {},
   "outputs": [
    {
     "data": {
      "text/plain": [
       "[('Jynx', 49),\n",
       " ('Pokémon', 36),\n",
       " ('design', 15),\n",
       " ('games', 10),\n",
       " ('episodes', 10),\n",
       " ('In', 9),\n",
       " ('Jynxs', 8),\n",
       " ('described', 8),\n",
       " ('later', 7),\n",
       " ('appearance', 7),\n",
       " ('purple', 7),\n",
       " ('Game', 6),\n",
       " ('The', 6),\n",
       " ('episode', 6),\n",
       " ('first', 5),\n",
       " ('appeared', 5),\n",
       " ('Red', 5),\n",
       " ('Japanese', 5),\n",
       " ('anime', 5),\n",
       " ('black', 5),\n",
       " ('one', 5),\n",
       " ('series', 5),\n",
       " ('controversy', 5),\n",
       " ('also', 5),\n",
       " ('Nintendo', 4),\n",
       " ('various', 4),\n",
       " ('English', 4),\n",
       " ('blackface', 4),\n",
       " ('Smoochum', 4),\n",
       " ('people', 4),\n",
       " ('Lorelei', 4),\n",
       " ('would', 4),\n",
       " ('due', 4),\n",
       " ('removed', 4),\n",
       " ('Rougela', 3),\n",
       " ('species', 3),\n",
       " ('Sugimori', 3),\n",
       " ('Blue', 3),\n",
       " ('character', 3),\n",
       " ('criticized', 3),\n",
       " ('Weatherford', 3),\n",
       " ('color', 3),\n",
       " ('designs', 3),\n",
       " ('racism', 3),\n",
       " ('addition', 3),\n",
       " ('appears', 3),\n",
       " ('Silver', 3),\n",
       " ('skin', 3),\n",
       " ('form', 3),\n",
       " ('However', 3)]"
      ]
     },
     "execution_count": 93,
     "metadata": {},
     "output_type": "execute_result"
    }
   ],
   "source": [
    "filtered8 = [w for w in tokens8 if not w in stopwords.words('english')]\n",
    "fcount8 = Counter(filtered8)\n",
    "fcount8.most_common(50)"
   ]
  },
  {
   "cell_type": "code",
   "execution_count": 94,
   "metadata": {},
   "outputs": [
    {
     "data": {
      "text/plain": [
       "989"
      ]
     },
     "execution_count": 94,
     "metadata": {},
     "output_type": "execute_result"
    }
   ],
   "source": [
    "len(filtered8)"
   ]
  },
  {
   "cell_type": "code",
   "execution_count": 95,
   "metadata": {},
   "outputs": [
    {
     "data": {
      "text/plain": [
       "624"
      ]
     },
     "execution_count": 95,
     "metadata": {},
     "output_type": "execute_result"
    }
   ],
   "source": [
    "len(fcount8)"
   ]
  },
  {
   "cell_type": "code",
   "execution_count": 96,
   "metadata": {},
   "outputs": [
    {
     "data": {
      "text/plain": [
       "624"
      ]
     },
     "execution_count": 96,
     "metadata": {},
     "output_type": "execute_result"
    }
   ],
   "source": [
    "len(set(filtered8))"
   ]
  },
  {
   "cell_type": "markdown",
   "metadata": {},
   "source": [
    "989 tokens in a8.txt after removing stopwords\n",
    "\n",
    "624 unique tokens in a8.txt after removing stopwords"
   ]
  },
  {
   "cell_type": "code",
   "execution_count": 97,
   "metadata": {},
   "outputs": [
    {
     "data": {
      "text/plain": [
       "[('Togepi', 56),\n",
       " ('Pokémon', 37),\n",
       " ('In', 12),\n",
       " ('first', 9),\n",
       " ('Gold', 9),\n",
       " ('Togetic', 9),\n",
       " ('Togekiss', 9),\n",
       " ('egg', 8),\n",
       " ('Misty', 7),\n",
       " ('anime', 6),\n",
       " ('also', 6),\n",
       " ('appeared', 5),\n",
       " ('It', 5),\n",
       " ('Silver', 5),\n",
       " ('red', 5),\n",
       " ('blue', 5),\n",
       " ('one', 5),\n",
       " ('games', 4),\n",
       " ('body', 4),\n",
       " ('evolution', 4),\n",
       " ('appearance', 4),\n",
       " ('called', 4),\n",
       " ('player', 4),\n",
       " ('design', 4),\n",
       " ('Togepis', 4),\n",
       " ('back', 4),\n",
       " ('several', 4),\n",
       " ('featured', 4),\n",
       " ('fans', 4),\n",
       " ('character', 3),\n",
       " ('shell', 3),\n",
       " ('pattern', 3),\n",
       " ('stubby', 3),\n",
       " ('happiness', 3),\n",
       " ('wings', 3),\n",
       " ('Diamond', 3),\n",
       " ('Pearl', 3),\n",
       " ('second', 3),\n",
       " ('Shiny', 3),\n",
       " ('Stone', 3),\n",
       " ('retains', 3),\n",
       " ('Its', 3),\n",
       " ('requires', 3),\n",
       " ('due', 3),\n",
       " ('forms', 3),\n",
       " ('appears', 3),\n",
       " ('since', 3),\n",
       " ('Ash', 3),\n",
       " ('episode', 3),\n",
       " ('Mirage', 3)]"
      ]
     },
     "execution_count": 97,
     "metadata": {},
     "output_type": "execute_result"
    }
   ],
   "source": [
    "filtered9 = [w for w in tokens9 if not w in stopwords.words('english')]\n",
    "fcount9 = Counter(filtered9)\n",
    "fcount9.most_common(50)"
   ]
  },
  {
   "cell_type": "code",
   "execution_count": 98,
   "metadata": {},
   "outputs": [
    {
     "data": {
      "text/plain": [
       "867"
      ]
     },
     "execution_count": 98,
     "metadata": {},
     "output_type": "execute_result"
    }
   ],
   "source": [
    "len(filtered9)"
   ]
  },
  {
   "cell_type": "code",
   "execution_count": 99,
   "metadata": {},
   "outputs": [
    {
     "data": {
      "text/plain": [
       "527"
      ]
     },
     "execution_count": 99,
     "metadata": {},
     "output_type": "execute_result"
    }
   ],
   "source": [
    "len(fcount9)"
   ]
  },
  {
   "cell_type": "code",
   "execution_count": 100,
   "metadata": {},
   "outputs": [
    {
     "data": {
      "text/plain": [
       "527"
      ]
     },
     "execution_count": 100,
     "metadata": {},
     "output_type": "execute_result"
    }
   ],
   "source": [
    "len(set(filtered9))"
   ]
  },
  {
   "cell_type": "markdown",
   "metadata": {},
   "source": [
    "867 tokens in a9.txt after removing stopwords\n",
    "\n",
    "527 unique tokens in a9.txt after removing stopwords"
   ]
  },
  {
   "cell_type": "code",
   "execution_count": 101,
   "metadata": {},
   "outputs": [
    {
     "data": {
      "text/plain": [
       "[('Snorlax', 42),\n",
       " ('Pokémon', 30),\n",
       " ('In', 14),\n",
       " ('Red', 8),\n",
       " ('games', 7),\n",
       " ('character', 7),\n",
       " ('one', 7),\n",
       " ('called', 7),\n",
       " ('also', 6),\n",
       " ('later', 5),\n",
       " ('Ash', 5),\n",
       " ('IGN', 5),\n",
       " ('known', 4),\n",
       " ('first', 4),\n",
       " ('It', 4),\n",
       " ('powerful', 4),\n",
       " ('children', 4),\n",
       " ('sleeping', 4),\n",
       " ('time', 4),\n",
       " ('The', 4),\n",
       " ('player', 4),\n",
       " ('must', 4),\n",
       " ('used', 4),\n",
       " ('Pokemon', 4),\n",
       " ('species', 3),\n",
       " ('video', 3),\n",
       " ('Blue', 3),\n",
       " ('various', 3),\n",
       " ('voiced', 3),\n",
       " ('anime', 3),\n",
       " ('series', 3),\n",
       " ('main', 3),\n",
       " ('calling', 3),\n",
       " ('Its', 3),\n",
       " ('large', 3),\n",
       " ('Snorlaxs', 3),\n",
       " ('play', 3),\n",
       " ('Munchlax', 3),\n",
       " ('certain', 3),\n",
       " ('roadblock', 3),\n",
       " ('Poké', 3),\n",
       " ('He', 3),\n",
       " ('Lax', 3),\n",
       " ('editor', 3),\n",
       " ('Japan', 2),\n",
       " ('Kabigon', 2),\n",
       " ('Nintendo', 2),\n",
       " ('Game', 2),\n",
       " ('Freaks', 2),\n",
       " ('franchise', 2)]"
      ]
     },
     "execution_count": 101,
     "metadata": {},
     "output_type": "execute_result"
    }
   ],
   "source": [
    "filtered10 = [w for w in tokens10 if not w in stopwords.words('english')]\n",
    "fcount10 = Counter(filtered10)\n",
    "fcount10.most_common(50)"
   ]
  },
  {
   "cell_type": "code",
   "execution_count": 102,
   "metadata": {},
   "outputs": [
    {
     "data": {
      "text/plain": [
       "761"
      ]
     },
     "execution_count": 102,
     "metadata": {},
     "output_type": "execute_result"
    }
   ],
   "source": [
    "len(filtered10)"
   ]
  },
  {
   "cell_type": "code",
   "execution_count": 103,
   "metadata": {},
   "outputs": [
    {
     "data": {
      "text/plain": [
       "491"
      ]
     },
     "execution_count": 103,
     "metadata": {},
     "output_type": "execute_result"
    }
   ],
   "source": [
    "len(fcount10)"
   ]
  },
  {
   "cell_type": "code",
   "execution_count": 104,
   "metadata": {},
   "outputs": [
    {
     "data": {
      "text/plain": [
       "491"
      ]
     },
     "execution_count": 104,
     "metadata": {},
     "output_type": "execute_result"
    }
   ],
   "source": [
    "len(set(filtered10))"
   ]
  },
  {
   "cell_type": "markdown",
   "metadata": {},
   "source": [
    "761 tokens in a10.txt after removing stopwords\n",
    "\n",
    "491 unique tokens in a10.txt after removing stopwords"
   ]
  },
  {
   "cell_type": "code",
   "execution_count": 105,
   "metadata": {},
   "outputs": [],
   "source": [
    "allFiltered = len(filtered1) + len(filtered2) + len(filtered3) + len(filtered4) + len(filtered5) + len(filtered6) + len(filtered7) + len(filtered8) + len(filtered9) + len(filtered10)"
   ]
  },
  {
   "cell_type": "code",
   "execution_count": 106,
   "metadata": {},
   "outputs": [
    {
     "name": "stdout",
     "output_type": "stream",
     "text": [
      "12826\n"
     ]
    }
   ],
   "source": [
    "print(allFiltered)"
   ]
  },
  {
   "cell_type": "code",
   "execution_count": 107,
   "metadata": {},
   "outputs": [],
   "source": [
    "allfcount = len(fcount1) + len(fcount2) + len(fcount3) + len(fcount4) + len(fcount5) + len(fcount6) + len(fcount7) + len(fcount8) + len(fcount9) + len(fcount10)"
   ]
  },
  {
   "cell_type": "code",
   "execution_count": 108,
   "metadata": {},
   "outputs": [
    {
     "name": "stdout",
     "output_type": "stream",
     "text": [
      "7246\n"
     ]
    }
   ],
   "source": [
    "print(allfcount)"
   ]
  },
  {
   "cell_type": "code",
   "execution_count": 109,
   "metadata": {},
   "outputs": [],
   "source": [
    "filteredAll = [w for w in tokensAll if not w in stopwords.words('english')]\n",
    "fcountAll = Counter(filteredAll)"
   ]
  },
  {
   "cell_type": "code",
   "execution_count": 110,
   "metadata": {},
   "outputs": [
    {
     "data": {
      "text/plain": [
       "12826"
      ]
     },
     "execution_count": 110,
     "metadata": {},
     "output_type": "execute_result"
    }
   ],
   "source": [
    "len(filteredAll)"
   ]
  },
  {
   "cell_type": "code",
   "execution_count": 111,
   "metadata": {},
   "outputs": [
    {
     "data": {
      "text/plain": [
       "4033"
      ]
     },
     "execution_count": 111,
     "metadata": {},
     "output_type": "execute_result"
    }
   ],
   "source": [
    "len(fcountAll)"
   ]
  },
  {
   "cell_type": "code",
   "execution_count": 112,
   "metadata": {},
   "outputs": [
    {
     "data": {
      "text/plain": [
       "4033"
      ]
     },
     "execution_count": 112,
     "metadata": {},
     "output_type": "execute_result"
    }
   ],
   "source": [
    "len(set(filteredAll))"
   ]
  },
  {
   "cell_type": "markdown",
   "metadata": {},
   "source": [
    "12826 tokens in all 10 documents after removing stopwords\n",
    "\n",
    "4033 unique tokens in all 10 documents after removing stopwords"
   ]
  },
  {
   "cell_type": "code",
   "execution_count": 113,
   "metadata": {},
   "outputs": [],
   "source": [
    "from nltk.stem.porter import *"
   ]
  },
  {
   "cell_type": "code",
   "execution_count": 114,
   "metadata": {},
   "outputs": [
    {
     "data": {
      "text/plain": [
       "[('gyarado', 62),\n",
       " ('pokémon', 53),\n",
       " ('appear', 20),\n",
       " ('red', 18),\n",
       " ('game', 15),\n",
       " ('one', 15),\n",
       " ('magikarp', 13),\n",
       " ('In', 13),\n",
       " ('evolv', 12),\n",
       " ('blue', 12),\n",
       " ('team', 9),\n",
       " ('seri', 7),\n",
       " ('It', 7),\n",
       " ('describ', 7),\n",
       " ('first', 6),\n",
       " ('later', 6),\n",
       " ('form', 6),\n",
       " ('misti', 6),\n",
       " ('trade', 6),\n",
       " ('gener', 6),\n",
       " ('use', 6),\n",
       " ('player', 6),\n",
       " ('silver', 5),\n",
       " ('fli', 5),\n",
       " ('type', 5),\n",
       " ('call', 5),\n",
       " ('sea', 5),\n",
       " ('dragon', 5),\n",
       " ('thi', 5),\n",
       " ('battl', 5),\n",
       " ('ign', 5),\n",
       " ('variou', 4),\n",
       " ('anim', 4),\n",
       " ('known', 4),\n",
       " ('time', 4),\n",
       " ('trainer', 4),\n",
       " ('own', 4),\n",
       " ('the', 4),\n",
       " ('featur', 4),\n",
       " ('charact', 4),\n",
       " ('name', 4),\n",
       " ('larg', 4),\n",
       " ('chines', 4),\n",
       " ('evolut', 4),\n",
       " ('gain', 4),\n",
       " ('speci', 3),\n",
       " ('video', 3),\n",
       " ('green', 3),\n",
       " ('merchandis', 3),\n",
       " ('japanes', 3)]"
      ]
     },
     "execution_count": 114,
     "metadata": {},
     "output_type": "execute_result"
    }
   ],
   "source": [
    "def stem_tokens(tokens, stemmer):\n",
    "    stemmed = []\n",
    "    for item in tokens:\n",
    "        stemmed.append(stemmer.stem(item))\n",
    "    return stemmed\n",
    "\n",
    "stemmer = PorterStemmer()\n",
    "\n",
    "stemmed1 = stem_tokens(filtered1, stemmer)\n",
    "scount1 = Counter(stemmed1)\n",
    "scount1.most_common(50)"
   ]
  },
  {
   "cell_type": "code",
   "execution_count": 115,
   "metadata": {},
   "outputs": [
    {
     "data": {
      "text/plain": [
       "1027"
      ]
     },
     "execution_count": 115,
     "metadata": {},
     "output_type": "execute_result"
    }
   ],
   "source": [
    "len(stemmed1)"
   ]
  },
  {
   "cell_type": "code",
   "execution_count": 116,
   "metadata": {},
   "outputs": [
    {
     "data": {
      "text/plain": [
       "502"
      ]
     },
     "execution_count": 116,
     "metadata": {},
     "output_type": "execute_result"
    }
   ],
   "source": [
    "len(scount1)"
   ]
  },
  {
   "cell_type": "code",
   "execution_count": 117,
   "metadata": {},
   "outputs": [
    {
     "data": {
      "text/plain": [
       "502"
      ]
     },
     "execution_count": 117,
     "metadata": {},
     "output_type": "execute_result"
    }
   ],
   "source": [
    "len(set(stemmed1))"
   ]
  },
  {
   "cell_type": "markdown",
   "metadata": {},
   "source": [
    "1027 tokens in a1.txt after removing stopwords and applying stemming\n",
    "\n",
    "502 unique tokens in a1.txt after removing stopwords and applying stemming"
   ]
  },
  {
   "cell_type": "code",
   "execution_count": 118,
   "metadata": {},
   "outputs": [
    {
     "data": {
      "text/plain": [
       "[('ash', 122),\n",
       " ('pokémon', 89),\n",
       " ('charact', 37),\n",
       " ('anim', 32),\n",
       " ('leagu', 28),\n",
       " ('the', 27),\n",
       " ('seri', 25),\n",
       " ('In', 23),\n",
       " ('pikachu', 21),\n",
       " ('also', 21),\n",
       " ('game', 17),\n",
       " ('team', 17),\n",
       " ('name', 16),\n",
       " ('episod', 16),\n",
       " ('defeat', 16),\n",
       " ('He', 15),\n",
       " ('show', 15),\n",
       " ('rival', 15),\n",
       " ('trainer', 15),\n",
       " ('first', 14),\n",
       " ('battl', 14),\n",
       " ('appear', 13),\n",
       " ('red', 12),\n",
       " ('one', 12),\n",
       " ('travel', 12),\n",
       " ('new', 12),\n",
       " ('ketchum', 11),\n",
       " ('howev', 11),\n",
       " ('compet', 11),\n",
       " ('badg', 11),\n",
       " ('parodi', 11),\n",
       " ('well', 10),\n",
       " ('season', 10),\n",
       " ('make', 10),\n",
       " ('8', 10),\n",
       " ('confer', 10),\n",
       " ('japanes', 9),\n",
       " ('voic', 9),\n",
       " ('taylor', 9),\n",
       " ('I', 9),\n",
       " ('power', 9),\n",
       " ('frontier', 9),\n",
       " ('kalo', 9),\n",
       " ('satoshi', 8),\n",
       " ('becom', 8),\n",
       " ('like', 8),\n",
       " ('region', 8),\n",
       " ('mani', 8),\n",
       " ('top', 8),\n",
       " ('greninja', 8)]"
      ]
     },
     "execution_count": 118,
     "metadata": {},
     "output_type": "execute_result"
    }
   ],
   "source": [
    "stemmed2 = stem_tokens(filtered2, stemmer)\n",
    "scount2 = Counter(stemmed2)\n",
    "scount2.most_common(50)"
   ]
  },
  {
   "cell_type": "code",
   "execution_count": 119,
   "metadata": {},
   "outputs": [
    {
     "data": {
      "text/plain": [
       "2537"
      ]
     },
     "execution_count": 119,
     "metadata": {},
     "output_type": "execute_result"
    }
   ],
   "source": [
    "len(stemmed2)"
   ]
  },
  {
   "cell_type": "code",
   "execution_count": 120,
   "metadata": {},
   "outputs": [
    {
     "data": {
      "text/plain": [
       "997"
      ]
     },
     "execution_count": 120,
     "metadata": {},
     "output_type": "execute_result"
    }
   ],
   "source": [
    "len(scount2)"
   ]
  },
  {
   "cell_type": "code",
   "execution_count": 121,
   "metadata": {},
   "outputs": [
    {
     "data": {
      "text/plain": [
       "997"
      ]
     },
     "execution_count": 121,
     "metadata": {},
     "output_type": "execute_result"
    }
   ],
   "source": [
    "len(set(stemmed2))"
   ]
  },
  {
   "cell_type": "markdown",
   "metadata": {},
   "source": [
    "2537 tokens in a2.txt after removing stopwords and applying stemming\n",
    "\n",
    "997 unique tokens in a2.txt after removing stopwords and applying stemming"
   ]
  },
  {
   "cell_type": "code",
   "execution_count": 122,
   "metadata": {},
   "outputs": [
    {
     "data": {
      "text/plain": [
       "[('jigglypuff', 65),\n",
       " ('pokémon', 50),\n",
       " ('game', 18),\n",
       " ('appear', 17),\n",
       " ('charact', 15),\n",
       " ('seri', 14),\n",
       " ('In', 13),\n",
       " ('anim', 12),\n",
       " ('the', 12),\n",
       " ('sing', 11),\n",
       " ('one', 10),\n",
       " ('sleep', 9),\n",
       " ('song', 8),\n",
       " ('first', 7),\n",
       " ('evolv', 7),\n",
       " ('name', 7),\n",
       " ('use', 7),\n",
       " ('popular', 7),\n",
       " ('sever', 6),\n",
       " ('It', 6),\n",
       " ('asleep', 6),\n",
       " ('speci', 5),\n",
       " ('franchis', 5),\n",
       " ('video', 5),\n",
       " ('blue', 5),\n",
       " ('wigglytuff', 5),\n",
       " ('featur', 5),\n",
       " ('green', 5),\n",
       " ('audienc', 5),\n",
       " ('children', 5),\n",
       " ('pink', 5),\n",
       " ('put', 5),\n",
       " ('femal', 5),\n",
       " ('nintendo', 4),\n",
       " ('red', 4),\n",
       " ('balloon', 4),\n",
       " ('happi', 4),\n",
       " ('moon', 4),\n",
       " ('stone', 4),\n",
       " ('includ', 4),\n",
       " ('plush', 4),\n",
       " ('toy', 4),\n",
       " ('design', 4),\n",
       " ('make', 4),\n",
       " ('like', 4),\n",
       " ('time', 4),\n",
       " ('introduc', 4),\n",
       " ('fall', 4),\n",
       " ('help', 4),\n",
       " ('two', 4)]"
      ]
     },
     "execution_count": 122,
     "metadata": {},
     "output_type": "execute_result"
    }
   ],
   "source": [
    "stemmed3 = stem_tokens(filtered3, stemmer)\n",
    "scount3 = Counter(stemmed3)\n",
    "scount3.most_common(50)"
   ]
  },
  {
   "cell_type": "code",
   "execution_count": 123,
   "metadata": {},
   "outputs": [
    {
     "data": {
      "text/plain": [
       "1151"
      ]
     },
     "execution_count": 123,
     "metadata": {},
     "output_type": "execute_result"
    }
   ],
   "source": [
    "len(stemmed3)"
   ]
  },
  {
   "cell_type": "code",
   "execution_count": 124,
   "metadata": {},
   "outputs": [
    {
     "data": {
      "text/plain": [
       "580"
      ]
     },
     "execution_count": 124,
     "metadata": {},
     "output_type": "execute_result"
    }
   ],
   "source": [
    "len(scount3)"
   ]
  },
  {
   "cell_type": "code",
   "execution_count": 125,
   "metadata": {},
   "outputs": [
    {
     "data": {
      "text/plain": [
       "580"
      ]
     },
     "execution_count": 125,
     "metadata": {},
     "output_type": "execute_result"
    }
   ],
   "source": [
    "len(set(stemmed3))"
   ]
  },
  {
   "cell_type": "markdown",
   "metadata": {},
   "source": [
    "1151 tokens in a3.txt after removing stopwords and applying stemming\n",
    "\n",
    "580 unique tokens in a3.txt after removing stopwords and applying stemming"
   ]
  },
  {
   "cell_type": "code",
   "execution_count": 126,
   "metadata": {},
   "outputs": [
    {
     "data": {
      "text/plain": [
       "[('charizard', 111),\n",
       " ('pokémon', 81),\n",
       " ('ash', 40),\n",
       " ('battl', 23),\n",
       " ('charact', 22),\n",
       " ('mega', 20),\n",
       " ('one', 20),\n",
       " ('appear', 19),\n",
       " ('red', 19),\n",
       " ('In', 18),\n",
       " ('game', 16),\n",
       " ('blue', 14),\n",
       " ('charmand', 14),\n",
       " ('team', 13),\n",
       " ('evolv', 12),\n",
       " ('charmeleon', 11),\n",
       " ('evolut', 11),\n",
       " ('X', 11),\n",
       " ('trainer', 11),\n",
       " ('origin', 9),\n",
       " ('form', 9),\n",
       " ('It', 9),\n",
       " ('power', 9),\n",
       " ('the', 9),\n",
       " ('anim', 8),\n",
       " ('Y', 8),\n",
       " ('seri', 8),\n",
       " ('state', 8),\n",
       " ('attack', 8),\n",
       " ('becom', 8),\n",
       " ('smash', 8),\n",
       " ('defeat', 8),\n",
       " ('orang', 7),\n",
       " ('popular', 7),\n",
       " ('pikachu', 7),\n",
       " ('leagu', 7),\n",
       " ('first', 6),\n",
       " ('they', 6),\n",
       " ('final', 6),\n",
       " ('featur', 6),\n",
       " ('describ', 6),\n",
       " ('super', 6),\n",
       " ('call', 6),\n",
       " ('children', 6),\n",
       " ('fire', 6),\n",
       " ('three', 6),\n",
       " ('video', 5),\n",
       " ('later', 5),\n",
       " ('adapt', 5),\n",
       " ('two', 5)]"
      ]
     },
     "execution_count": 126,
     "metadata": {},
     "output_type": "execute_result"
    }
   ],
   "source": [
    "stemmed4 = stem_tokens(filtered4, stemmer)\n",
    "scount4 = Counter(stemmed4)\n",
    "scount4.most_common(50)"
   ]
  },
  {
   "cell_type": "code",
   "execution_count": 127,
   "metadata": {},
   "outputs": [
    {
     "data": {
      "text/plain": [
       "1792"
      ]
     },
     "execution_count": 127,
     "metadata": {},
     "output_type": "execute_result"
    }
   ],
   "source": [
    "len(stemmed4)"
   ]
  },
  {
   "cell_type": "code",
   "execution_count": 128,
   "metadata": {},
   "outputs": [
    {
     "data": {
      "text/plain": [
       "775"
      ]
     },
     "execution_count": 128,
     "metadata": {},
     "output_type": "execute_result"
    }
   ],
   "source": [
    "len(scount4)"
   ]
  },
  {
   "cell_type": "code",
   "execution_count": 129,
   "metadata": {},
   "outputs": [
    {
     "data": {
      "text/plain": [
       "775"
      ]
     },
     "execution_count": 129,
     "metadata": {},
     "output_type": "execute_result"
    }
   ],
   "source": [
    "len(set(stemmed4))"
   ]
  },
  {
   "cell_type": "markdown",
   "metadata": {},
   "source": [
    "1792 tokens in a4.txt after removing stopwords and applying stemming\n",
    "\n",
    "775 unique tokens in a4.txt after removing stopwords and applying stemming"
   ]
  },
  {
   "cell_type": "code",
   "execution_count": 130,
   "metadata": {},
   "outputs": [
    {
     "data": {
      "text/plain": [
       "[('mewtwo', 121),\n",
       " ('pokémon', 59),\n",
       " ('charact', 30),\n",
       " ('In', 27),\n",
       " ('game', 23),\n",
       " ('the', 21),\n",
       " ('appear', 20),\n",
       " ('mew', 18),\n",
       " ('anim', 16),\n",
       " ('film', 16),\n",
       " ('voic', 15),\n",
       " ('clone', 14),\n",
       " ('japanes', 11),\n",
       " ('player', 11),\n",
       " ('use', 11),\n",
       " ('mega', 11),\n",
       " ('origin', 10),\n",
       " ('red', 9),\n",
       " ('also', 9),\n",
       " ('franchis', 8),\n",
       " ('creat', 8),\n",
       " ('first', 8),\n",
       " ('one', 8),\n",
       " ('seri', 8),\n",
       " ('children', 8),\n",
       " ('smash', 8),\n",
       " ('featur', 8),\n",
       " ('fuji', 8),\n",
       " ('nintendo', 7),\n",
       " ('later', 7),\n",
       " ('strike', 7),\n",
       " ('back', 7),\n",
       " ('other', 7),\n",
       " ('super', 7),\n",
       " ('bro', 7),\n",
       " ('includ', 7),\n",
       " ('media', 6),\n",
       " ('video', 6),\n",
       " ('blue', 6),\n",
       " ('learn', 6),\n",
       " ('releas', 6),\n",
       " ('power', 6),\n",
       " ('abil', 6),\n",
       " ('note', 6),\n",
       " ('defeat', 6),\n",
       " ('team', 6),\n",
       " ('rocket', 6),\n",
       " ('giovanni', 6),\n",
       " ('book', 6),\n",
       " ('adapt', 5)]"
      ]
     },
     "execution_count": 130,
     "metadata": {},
     "output_type": "execute_result"
    }
   ],
   "source": [
    "stemmed5 = stem_tokens(filtered5, stemmer)\n",
    "scount5 = Counter(stemmed5)\n",
    "scount5.most_common(50)"
   ]
  },
  {
   "cell_type": "code",
   "execution_count": 131,
   "metadata": {},
   "outputs": [
    {
     "data": {
      "text/plain": [
       "1875"
      ]
     },
     "execution_count": 131,
     "metadata": {},
     "output_type": "execute_result"
    }
   ],
   "source": [
    "len(stemmed5)"
   ]
  },
  {
   "cell_type": "code",
   "execution_count": 132,
   "metadata": {},
   "outputs": [
    {
     "data": {
      "text/plain": [
       "836"
      ]
     },
     "execution_count": 132,
     "metadata": {},
     "output_type": "execute_result"
    }
   ],
   "source": [
    "len(scount5)"
   ]
  },
  {
   "cell_type": "code",
   "execution_count": 133,
   "metadata": {},
   "outputs": [
    {
     "data": {
      "text/plain": [
       "836"
      ]
     },
     "execution_count": 133,
     "metadata": {},
     "output_type": "execute_result"
    }
   ],
   "source": [
    "len(set(stemmed5))"
   ]
  },
  {
   "cell_type": "markdown",
   "metadata": {},
   "source": [
    "1875 tokens in a5.txt after removing stopwords and applying stemming\n",
    "\n",
    "836 unique tokens in a5.txt after removing stopwords and applying stemming"
   ]
  },
  {
   "cell_type": "code",
   "execution_count": 134,
   "metadata": {},
   "outputs": [
    {
     "data": {
      "text/plain": [
       "[('meowth', 58),\n",
       " ('pokémon', 44),\n",
       " ('game', 17),\n",
       " ('appear', 17),\n",
       " ('anim', 14),\n",
       " ('charact', 12),\n",
       " ('In', 10),\n",
       " ('one', 9),\n",
       " ('first', 8),\n",
       " ('describ', 8),\n",
       " ('speci', 6),\n",
       " ('seri', 6),\n",
       " ('team', 6),\n",
       " ('speak', 6),\n",
       " ('the', 6),\n",
       " ('japanes', 5),\n",
       " ('languag', 5),\n",
       " ('nintendo', 5),\n",
       " ('episod', 5),\n",
       " ('rocket', 5),\n",
       " ('would', 5),\n",
       " ('coin', 5),\n",
       " ('state', 5),\n",
       " ('known', 4),\n",
       " ('franchis', 4),\n",
       " ('video', 4),\n",
       " ('red', 4),\n",
       " ('blue', 4),\n",
       " ('citi', 4),\n",
       " ('abil', 4),\n",
       " ('human', 4),\n",
       " ('attempt', 4),\n",
       " ('call', 4),\n",
       " ('meowzi', 4),\n",
       " ('two', 4),\n",
       " ('gamesradar', 4),\n",
       " ('use', 4),\n",
       " ('collect', 4),\n",
       " ('day', 4),\n",
       " ('captur', 4),\n",
       " ('editor', 4),\n",
       " ('version', 3),\n",
       " ('freak', 3),\n",
       " ('form', 3),\n",
       " ('It', 3),\n",
       " ('jame', 3),\n",
       " ('english', 3),\n",
       " ('show', 3),\n",
       " ('impress', 3),\n",
       " ('walk', 3)]"
      ]
     },
     "execution_count": 134,
     "metadata": {},
     "output_type": "execute_result"
    }
   ],
   "source": [
    "stemmed6 = stem_tokens(filtered6, stemmer)\n",
    "scount6 = Counter(stemmed6)\n",
    "scount6.most_common(50)"
   ]
  },
  {
   "cell_type": "code",
   "execution_count": 135,
   "metadata": {},
   "outputs": [
    {
     "data": {
      "text/plain": [
       "941"
      ]
     },
     "execution_count": 135,
     "metadata": {},
     "output_type": "execute_result"
    }
   ],
   "source": [
    "len(stemmed6)"
   ]
  },
  {
   "cell_type": "code",
   "execution_count": 136,
   "metadata": {},
   "outputs": [
    {
     "data": {
      "text/plain": [
       "498"
      ]
     },
     "execution_count": 136,
     "metadata": {},
     "output_type": "execute_result"
    }
   ],
   "source": [
    "len(scount6)"
   ]
  },
  {
   "cell_type": "code",
   "execution_count": 137,
   "metadata": {},
   "outputs": [
    {
     "data": {
      "text/plain": [
       "498"
      ]
     },
     "execution_count": 137,
     "metadata": {},
     "output_type": "execute_result"
    }
   ],
   "source": [
    "len(set(stemmed6))"
   ]
  },
  {
   "cell_type": "markdown",
   "metadata": {},
   "source": [
    "941 tokens in a6.txt after removing stopwords and applying stemming\n",
    "\n",
    "498 unique tokens in a6.txt after removing stopwords and applying stemming"
   ]
  },
  {
   "cell_type": "code",
   "execution_count": 138,
   "metadata": {},
   "outputs": [
    {
     "data": {
      "text/plain": [
       "[('gengar', 47),\n",
       " ('pokémon', 41),\n",
       " ('game', 15),\n",
       " ('appear', 12),\n",
       " ('In', 11),\n",
       " ('name', 9),\n",
       " ('red', 9),\n",
       " ('blue', 9),\n",
       " ('shadow', 8),\n",
       " ('best', 7),\n",
       " ('charact', 7),\n",
       " ('ghost', 7),\n",
       " ('the', 7),\n",
       " ('nintendo', 6),\n",
       " ('first', 6),\n",
       " ('call', 6),\n",
       " ('mega', 6),\n",
       " ('also', 6),\n",
       " ('haunter', 6),\n",
       " ('gym', 6),\n",
       " ('speci', 5),\n",
       " ('It', 5),\n",
       " ('design', 5),\n",
       " ('anim', 5),\n",
       " ('japanes', 5),\n",
       " ('one', 5),\n",
       " ('seri', 5),\n",
       " ('form', 5),\n",
       " ('citi', 5),\n",
       " ('use', 5),\n",
       " ('leader', 5),\n",
       " ('A', 5),\n",
       " ('ash', 5),\n",
       " ('later', 4),\n",
       " ('note', 4),\n",
       " ('children', 4),\n",
       " ('ign', 4),\n",
       " ('due', 4),\n",
       " ('evolut', 4),\n",
       " ('curs', 4),\n",
       " ('includ', 4),\n",
       " ('battl', 4),\n",
       " ('freak', 3),\n",
       " ('franchis', 3),\n",
       " ('sequel', 3),\n",
       " ('relat', 3),\n",
       " ('adapt', 3),\n",
       " ('popular', 3),\n",
       " ('prais', 3),\n",
       " ('magazin', 3)]"
      ]
     },
     "execution_count": 138,
     "metadata": {},
     "output_type": "execute_result"
    }
   ],
   "source": [
    "stemmed7 = stem_tokens(filtered7, stemmer)\n",
    "scount7 = Counter(stemmed7)\n",
    "scount7.most_common(50)"
   ]
  },
  {
   "cell_type": "code",
   "execution_count": 139,
   "metadata": {},
   "outputs": [
    {
     "data": {
      "text/plain": [
       "886"
      ]
     },
     "execution_count": 139,
     "metadata": {},
     "output_type": "execute_result"
    }
   ],
   "source": [
    "len(stemmed7)"
   ]
  },
  {
   "cell_type": "code",
   "execution_count": 140,
   "metadata": {},
   "outputs": [
    {
     "data": {
      "text/plain": [
       "492"
      ]
     },
     "execution_count": 140,
     "metadata": {},
     "output_type": "execute_result"
    }
   ],
   "source": [
    "len(scount7)"
   ]
  },
  {
   "cell_type": "code",
   "execution_count": 141,
   "metadata": {},
   "outputs": [
    {
     "data": {
      "text/plain": [
       "492"
      ]
     },
     "execution_count": 141,
     "metadata": {},
     "output_type": "execute_result"
    }
   ],
   "source": [
    "len(set(stemmed7))"
   ]
  },
  {
   "cell_type": "markdown",
   "metadata": {},
   "source": [
    "886 tokens in a7.txt after removing stopwords and applying stemming\n",
    "\n",
    "492 unique tokens in a7.txt after removing stopwords and applying stemming"
   ]
  },
  {
   "cell_type": "code",
   "execution_count": 142,
   "metadata": {},
   "outputs": [
    {
     "data": {
      "text/plain": [
       "[('jynx', 57),\n",
       " ('pokémon', 36),\n",
       " ('appear', 20),\n",
       " ('game', 19),\n",
       " ('design', 19),\n",
       " ('episod', 16),\n",
       " ('describ', 9),\n",
       " ('In', 9),\n",
       " ('black', 8),\n",
       " ('later', 7),\n",
       " ('anim', 7),\n",
       " ('critic', 7),\n",
       " ('purpl', 7),\n",
       " ('controversi', 7),\n",
       " ('red', 6),\n",
       " ('the', 6),\n",
       " ('charact', 6),\n",
       " ('also', 6),\n",
       " ('use', 6),\n",
       " ('lorelei', 6),\n",
       " ('list', 6),\n",
       " ('first', 5),\n",
       " ('japanes', 5),\n",
       " ('due', 5),\n",
       " ('one', 5),\n",
       " ('resembl', 5),\n",
       " ('seri', 5),\n",
       " ('ice', 5),\n",
       " ('air', 5),\n",
       " ('nintendo', 4),\n",
       " ('freak', 4),\n",
       " ('variou', 4),\n",
       " ('english', 4),\n",
       " ('blackfac', 4),\n",
       " ('chang', 4),\n",
       " ('origin', 4),\n",
       " ('color', 4),\n",
       " ('featur', 4),\n",
       " ('smoochum', 4),\n",
       " ('peopl', 4),\n",
       " ('note', 4),\n",
       " ('would', 4),\n",
       " ('remov', 4),\n",
       " ('rougela', 3),\n",
       " ('speci', 3),\n",
       " ('sugimori', 3),\n",
       " ('blue', 3),\n",
       " ('cultur', 3),\n",
       " ('weatherford', 3),\n",
       " ('gener', 3)]"
      ]
     },
     "execution_count": 142,
     "metadata": {},
     "output_type": "execute_result"
    }
   ],
   "source": [
    "stemmed8 = stem_tokens(filtered8, stemmer)\n",
    "scount8 = Counter(stemmed8)\n",
    "scount8.most_common(50)"
   ]
  },
  {
   "cell_type": "code",
   "execution_count": 143,
   "metadata": {},
   "outputs": [
    {
     "data": {
      "text/plain": [
       "989"
      ]
     },
     "execution_count": 143,
     "metadata": {},
     "output_type": "execute_result"
    }
   ],
   "source": [
    "len(stemmed8)"
   ]
  },
  {
   "cell_type": "code",
   "execution_count": 144,
   "metadata": {},
   "outputs": [
    {
     "data": {
      "text/plain": [
       "528"
      ]
     },
     "execution_count": 144,
     "metadata": {},
     "output_type": "execute_result"
    }
   ],
   "source": [
    "len(scount8)"
   ]
  },
  {
   "cell_type": "code",
   "execution_count": 145,
   "metadata": {},
   "outputs": [
    {
     "data": {
      "text/plain": [
       "528"
      ]
     },
     "execution_count": 145,
     "metadata": {},
     "output_type": "execute_result"
    }
   ],
   "source": [
    "len(set(stemmed8))"
   ]
  },
  {
   "cell_type": "markdown",
   "metadata": {},
   "source": [
    "989 tokens in a8.txt after removing stopwords and applying stemming\n",
    "\n",
    "528 unique tokens in a8.txt after removing stopwords and applying stemming"
   ]
  },
  {
   "cell_type": "code",
   "execution_count": 146,
   "metadata": {},
   "outputs": [
    {
     "data": {
      "text/plain": [
       "[('togepi', 60),\n",
       " ('pokémon', 37),\n",
       " ('appear', 17),\n",
       " ('In', 12),\n",
       " ('gold', 11),\n",
       " ('toget', 10),\n",
       " ('first', 9),\n",
       " ('togekiss', 9),\n",
       " ('anim', 8),\n",
       " ('egg', 8),\n",
       " ('game', 7),\n",
       " ('misti', 7),\n",
       " ('also', 7),\n",
       " ('evolv', 6),\n",
       " ('player', 6),\n",
       " ('describ', 6),\n",
       " ('It', 5),\n",
       " ('silver', 5),\n",
       " ('red', 5),\n",
       " ('blue', 5),\n",
       " ('pattern', 5),\n",
       " ('evolut', 5),\n",
       " ('back', 5),\n",
       " ('call', 5),\n",
       " ('one', 5),\n",
       " ('bodi', 4),\n",
       " ('shell', 4),\n",
       " ('retain', 4),\n",
       " ('give', 4),\n",
       " ('gain', 4),\n",
       " ('use', 4),\n",
       " ('design', 4),\n",
       " ('requir', 4),\n",
       " ('sinc', 4),\n",
       " ('attack', 4),\n",
       " ('sever', 4),\n",
       " ('featur', 4),\n",
       " ('comment', 4),\n",
       " ('fan', 4),\n",
       " ('charact', 3),\n",
       " ('video', 3),\n",
       " ('babi', 3),\n",
       " ('stubbi', 3),\n",
       " ('releas', 3),\n",
       " ('happi', 3),\n",
       " ('obtain', 3),\n",
       " ('wing', 3),\n",
       " ('diamond', 3),\n",
       " ('pearl', 3),\n",
       " ('second', 3)]"
      ]
     },
     "execution_count": 146,
     "metadata": {},
     "output_type": "execute_result"
    }
   ],
   "source": [
    "stemmed9 = stem_tokens(filtered9, stemmer)\n",
    "scount9 = Counter(stemmed9)\n",
    "scount9.most_common(50)"
   ]
  },
  {
   "cell_type": "code",
   "execution_count": 147,
   "metadata": {},
   "outputs": [
    {
     "data": {
      "text/plain": [
       "867"
      ]
     },
     "execution_count": 147,
     "metadata": {},
     "output_type": "execute_result"
    }
   ],
   "source": [
    "len(stemmed9)"
   ]
  },
  {
   "cell_type": "code",
   "execution_count": 148,
   "metadata": {},
   "outputs": [
    {
     "data": {
      "text/plain": [
       "453"
      ]
     },
     "execution_count": 148,
     "metadata": {},
     "output_type": "execute_result"
    }
   ],
   "source": [
    "len(scount9)"
   ]
  },
  {
   "cell_type": "code",
   "execution_count": 149,
   "metadata": {},
   "outputs": [
    {
     "data": {
      "text/plain": [
       "453"
      ]
     },
     "execution_count": 149,
     "metadata": {},
     "output_type": "execute_result"
    }
   ],
   "source": [
    "len(set(stemmed9))"
   ]
  },
  {
   "cell_type": "markdown",
   "metadata": {},
   "source": [
    "867 tokens in a9.txt after removing stopwords and applying stemming\n",
    "\n",
    "453 unique tokens in a9.txt after removing stopwords and applying stemming"
   ]
  },
  {
   "cell_type": "code",
   "execution_count": 150,
   "metadata": {},
   "outputs": [
    {
     "data": {
      "text/plain": [
       "[('snorlax', 45),\n",
       " ('pokémon', 31),\n",
       " ('In', 14),\n",
       " ('game', 11),\n",
       " ('call', 11),\n",
       " ('red', 9),\n",
       " ('use', 9),\n",
       " ('appear', 8),\n",
       " ('charact', 8),\n",
       " ('one', 8),\n",
       " ('later', 6),\n",
       " ('sleep', 6),\n",
       " ('ash', 6),\n",
       " ('also', 6),\n",
       " ('known', 5),\n",
       " ('anim', 5),\n",
       " ('ign', 5),\n",
       " ('power', 5),\n",
       " ('children', 5),\n",
       " ('first', 4),\n",
       " ('It', 4),\n",
       " ('adventur', 4),\n",
       " ('time', 4),\n",
       " ('the', 4),\n",
       " ('obtain', 4),\n",
       " ('player', 4),\n",
       " ('must', 4),\n",
       " ('defeat', 4),\n",
       " ('pokemon', 4),\n",
       " ('speci', 3),\n",
       " ('video', 3),\n",
       " ('blue', 3),\n",
       " ('variou', 3),\n",
       " ('voic', 3),\n",
       " ('seri', 3),\n",
       " ('pikachu', 3),\n",
       " ('main', 3),\n",
       " ('name', 3),\n",
       " ('relat', 3),\n",
       " ('bodi', 3),\n",
       " ('it', 3),\n",
       " ('larg', 3),\n",
       " ('play', 3),\n",
       " ('munchlax', 3),\n",
       " ('certain', 3),\n",
       " ('roadblock', 3),\n",
       " ('wake', 3),\n",
       " ('town', 3),\n",
       " ('poké', 3),\n",
       " ('slam', 3)]"
      ]
     },
     "execution_count": 150,
     "metadata": {},
     "output_type": "execute_result"
    }
   ],
   "source": [
    "stemmed10 = stem_tokens(filtered10, stemmer)\n",
    "scount10 = Counter(stemmed10)\n",
    "scount10.most_common(50)"
   ]
  },
  {
   "cell_type": "code",
   "execution_count": 151,
   "metadata": {},
   "outputs": [
    {
     "data": {
      "text/plain": [
       "761"
      ]
     },
     "execution_count": 151,
     "metadata": {},
     "output_type": "execute_result"
    }
   ],
   "source": [
    "len(stemmed10)"
   ]
  },
  {
   "cell_type": "code",
   "execution_count": 152,
   "metadata": {},
   "outputs": [
    {
     "data": {
      "text/plain": [
       "427"
      ]
     },
     "execution_count": 152,
     "metadata": {},
     "output_type": "execute_result"
    }
   ],
   "source": [
    "len(scount10)"
   ]
  },
  {
   "cell_type": "code",
   "execution_count": 153,
   "metadata": {},
   "outputs": [
    {
     "data": {
      "text/plain": [
       "427"
      ]
     },
     "execution_count": 153,
     "metadata": {},
     "output_type": "execute_result"
    }
   ],
   "source": [
    "len(set(stemmed10))"
   ]
  },
  {
   "cell_type": "markdown",
   "metadata": {},
   "source": [
    "761 tokens in a10.txt after removing stopwords and applying stemming\n",
    "\n",
    "427 unique tokens in a10.txt after removing stopwords and applying stemming"
   ]
  },
  {
   "cell_type": "code",
   "execution_count": 154,
   "metadata": {},
   "outputs": [
    {
     "data": {
      "text/plain": [
       "[('pokémon', 521),\n",
       " ('ash', 189),\n",
       " ('appear', 163),\n",
       " ('game', 158),\n",
       " ('In', 150),\n",
       " ('charact', 144),\n",
       " ('mewtwo', 125),\n",
       " ('charizard', 114),\n",
       " ('anim', 111),\n",
       " ('the', 99),\n",
       " ('one', 97),\n",
       " ('red', 95),\n",
       " ('seri', 81),\n",
       " ('first', 73),\n",
       " ('also', 69),\n",
       " ('blue', 67),\n",
       " ('jigglypuff', 66),\n",
       " ('gyarado', 62),\n",
       " ('team', 61),\n",
       " ('togepi', 60),\n",
       " ('use', 59),\n",
       " ('meowth', 59),\n",
       " ('jynx', 57),\n",
       " ('battl', 55),\n",
       " ('evolv', 51),\n",
       " ('name', 50),\n",
       " ('describ', 49),\n",
       " ('design', 49),\n",
       " ('japanes', 47),\n",
       " ('episod', 47),\n",
       " ('gengar', 47),\n",
       " ('pikachu', 46),\n",
       " ('snorlax', 46),\n",
       " ('call', 45),\n",
       " ('It', 44),\n",
       " ('later', 43),\n",
       " ('mega', 43),\n",
       " ('player', 40),\n",
       " ('leagu', 40),\n",
       " ('origin', 39),\n",
       " ('nintendo', 38),\n",
       " ('video', 38),\n",
       " ('form', 37),\n",
       " ('featur', 37),\n",
       " ('defeat', 37),\n",
       " ('franchis', 36),\n",
       " ('voic', 35),\n",
       " ('children', 35),\n",
       " ('trainer', 33),\n",
       " ('power', 32)]"
      ]
     },
     "execution_count": 154,
     "metadata": {},
     "output_type": "execute_result"
    }
   ],
   "source": [
    "stemmedAll = stem_tokens(filteredAll, stemmer)\n",
    "scountAll = Counter(stemmedAll)\n",
    "scountAll.most_common(50)"
   ]
  },
  {
   "cell_type": "code",
   "execution_count": 155,
   "metadata": {},
   "outputs": [
    {
     "data": {
      "text/plain": [
       "12826"
      ]
     },
     "execution_count": 155,
     "metadata": {},
     "output_type": "execute_result"
    }
   ],
   "source": [
    "len(stemmedAll)"
   ]
  },
  {
   "cell_type": "code",
   "execution_count": 156,
   "metadata": {},
   "outputs": [
    {
     "data": {
      "text/plain": [
       "2905"
      ]
     },
     "execution_count": 156,
     "metadata": {},
     "output_type": "execute_result"
    }
   ],
   "source": [
    "len(scountAll)"
   ]
  },
  {
   "cell_type": "code",
   "execution_count": 157,
   "metadata": {},
   "outputs": [
    {
     "data": {
      "text/plain": [
       "2905"
      ]
     },
     "execution_count": 157,
     "metadata": {},
     "output_type": "execute_result"
    }
   ],
   "source": [
    "len(set(stemmedAll))"
   ]
  },
  {
   "cell_type": "markdown",
   "metadata": {},
   "source": [
    "12826 tokens in all 10 documents after removing stopwords and applying stemming\n",
    "\n",
    "2905 unique tokens in all 10 documents after removing stopwords and applying stemming"
   ]
  },
  {
   "cell_type": "code",
   "execution_count": 158,
   "metadata": {},
   "outputs": [],
   "source": [
    "import os\n",
    "\n",
    "from sklearn.feature_extraction.text import TfidfVectorizer\n",
    "\n",
    "path = 'Data'\n",
    "token_dict = {}\n",
    "\n",
    "def tokenize(text):\n",
    "    tokens = nltk.word_tokenize(text)\n",
    "    stems = stem_tokens(tokens, stemmer)\n",
    "    return stems\n",
    "\n",
    "for subdir, dirs, files in os.walk(path):\n",
    "    for file in files:\n",
    "        file_path = subdir + os.path.sep + file\n",
    "        docs = open(file_path, 'r')\n",
    "        text = docs.read()\n",
    "        lowers = text.lower()\n",
    "        no_punctuation = text.translate(str.maketrans('','',string.punctuation))\n",
    "        token_dict[file] = no_punctuation\n",
    "\n",
    "tfidf = TfidfVectorizer(tokenizer=tokenize)\n",
    "tfs = tfidf.fit_transform(token_dict.values())"
   ]
  },
  {
   "cell_type": "code",
   "execution_count": 159,
   "metadata": {},
   "outputs": [
    {
     "name": "stdout",
     "output_type": "stream",
     "text": [
      "  (0, 380)\t0.0039054358464855115\n",
      "  (0, 1492)\t0.0039054358464855115\n",
      "  (0, 890)\t0.0039054358464855115\n",
      "  (0, 2119)\t0.0039054358464855115\n",
      "  (0, 2898)\t0.010563220155141247\n",
      "  (0, 697)\t0.010563220155141247\n",
      "  (0, 566)\t0.006984705485077477\n",
      "  (0, 1334)\t0.010563220155141247\n",
      "  (0, 1733)\t0.008979702187436498\n",
      "  (0, 251)\t0.008979702187436498\n",
      "  (0, 1774)\t0.015712356618584142\n",
      "  (0, 1450)\t0.008979702187436498\n",
      "  (0, 2230)\t0.015712356618584142\n",
      "  (0, 2938)\t0.015712356618584142\n",
      "  (0, 2660)\t0.010563220155141247\n",
      "  (0, 1034)\t0.007856178309292071\n",
      "  (0, 1541)\t0.0042776636392283015\n",
      "  (0, 856)\t0.006984705485077477\n",
      "  (0, 2533)\t0.008979702187436498\n",
      "  (0, 1038)\t0.0046891423738825745\n",
      "  (0, 2260)\t0.006272660341587323\n",
      "  (0, 1437)\t0.008979702187436498\n",
      "  (0, 2677)\t0.006984705485077477\n",
      "  (0, 2692)\t0.010563220155141247\n",
      "  (0, 2690)\t0.008979702187436498\n",
      "  :\t:\n",
      "  (9, 2446)\t0.004751235131980083\n",
      "  (9, 1622)\t0.008675597505774813\n",
      "  (9, 2772)\t0.004337798752887406\n",
      "  (9, 1446)\t0.008675597505774813\n",
      "  (9, 2301)\t0.004751235131980083\n",
      "  (9, 2512)\t0.005208267845404175\n",
      "  (9, 2115)\t0.021688993764437035\n",
      "  (9, 2785)\t0.01301339625866222\n",
      "  (9, 2600)\t0.24291673016169477\n",
      "  (9, 179)\t0.07374257879908591\n",
      "  (9, 966)\t0.03904018877598666\n",
      "  (9, 2523)\t0.004337798752887406\n",
      "  (9, 1395)\t0.004337798752887406\n",
      "  (9, 389)\t0.01301339625866222\n",
      "  (9, 596)\t0.005208267845404175\n",
      "  (9, 1007)\t0.004337798752887406\n",
      "  (9, 1010)\t0.004751235131980083\n",
      "  (9, 1045)\t0.030364591270211846\n",
      "  (9, 157)\t0.22122773639725773\n",
      "  (9, 1746)\t0.008675597505774813\n",
      "  (9, 1267)\t0.1865253463741585\n",
      "  (9, 1949)\t0.16049855385683406\n",
      "  (9, 67)\t0.26026792517324443\n",
      "  (9, 1325)\t0.09976937131641035\n",
      "  (9, 1819)\t0.004337798752887406\n"
     ]
    }
   ],
   "source": [
    "print(tfs)"
   ]
  },
  {
   "cell_type": "code",
   "execution_count": 160,
   "metadata": {},
   "outputs": [],
   "source": [
    "from sklearn.metrics.pairwise import cosine_similarity"
   ]
  },
  {
   "cell_type": "code",
   "execution_count": 168,
   "metadata": {},
   "outputs": [
    {
     "name": "stdout",
     "output_type": "stream",
     "text": [
      "[[1.         0.52108035 0.57495528 0.52543025 0.55000814 0.50986548\n",
      "  0.49197771 0.5166285  0.46469832 0.42765992]\n",
      " [0.52108035 1.         0.6304179  0.56802282 0.58311353 0.55305414\n",
      "  0.52905401 0.55132745 0.49615439 0.4552163 ]\n",
      " [0.57495528 0.6304179  1.         0.63814194 0.73421915 0.66235883\n",
      "  0.63194258 0.62527188 0.60545933 0.49244249]\n",
      " [0.52543025 0.56802282 0.63814194 1.         0.5952697  0.57175004\n",
      "  0.53922256 0.56168587 0.5165055  0.47131129]\n",
      " [0.55000814 0.58311353 0.73421915 0.5952697  1.         0.60826746\n",
      "  0.55731668 0.58191083 0.53697141 0.46087262]\n",
      " [0.50986548 0.55305414 0.66235883 0.57175004 0.60826746 1.\n",
      "  0.54302076 0.55461249 0.51710996 0.44344059]\n",
      " [0.49197771 0.52905401 0.63194258 0.53922256 0.55731668 0.54302076\n",
      "  1.         0.52466163 0.49354769 0.43304872]\n",
      " [0.5166285  0.55132745 0.62527188 0.56168587 0.58191083 0.55461249\n",
      "  0.52466163 1.         0.50533253 0.44797345]\n",
      " [0.46469832 0.49615439 0.60545933 0.5165055  0.53697141 0.51710996\n",
      "  0.49354769 0.50533253 1.         0.40128753]\n",
      " [0.42765992 0.4552163  0.49244249 0.47131129 0.46087262 0.44344059\n",
      "  0.43304872 0.44797345 0.40128753 1.        ]]\n"
     ]
    }
   ],
   "source": [
    "print (cosine_similarity(tfs, tfs))"
   ]
  },
  {
   "cell_type": "code",
   "execution_count": 170,
   "metadata": {},
   "outputs": [],
   "source": [
    "output_file = open('cosine_similarity.txt', 'w')\n",
    "for w in (cosine_similarity(tfs, tfs)):\n",
    "    print(w, file=output_file)"
   ]
  },
  {
   "cell_type": "code",
   "execution_count": null,
   "metadata": {},
   "outputs": [],
   "source": []
  }
 ],
 "metadata": {
  "kernelspec": {
   "display_name": "Python 3",
   "language": "python",
   "name": "python3"
  },
  "language_info": {
   "codemirror_mode": {
    "name": "ipython",
    "version": 3
   },
   "file_extension": ".py",
   "mimetype": "text/x-python",
   "name": "python",
   "nbconvert_exporter": "python",
   "pygments_lexer": "ipython3",
   "version": "3.8.3"
  }
 },
 "nbformat": 4,
 "nbformat_minor": 4
}
